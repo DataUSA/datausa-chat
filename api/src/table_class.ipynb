{
 "cells": [
  {
   "cell_type": "code",
   "execution_count": 9,
   "metadata": {},
   "outputs": [
    {
     "name": "stdout",
     "output_type": "stream",
     "text": [
      "The dotenv extension is already loaded. To reload it, use:\n",
      "  %reload_ext dotenv\n"
     ]
    }
   ],
   "source": [
    "%load_ext dotenv\n",
    "%dotenv\n",
    "\n",
    "from os import getenv\n",
    "\n",
    "from table_selection.table_selector import *\n",
    "from table_selection.table import *"
   ]
  },
  {
   "cell_type": "markdown",
   "metadata": {},
   "source": [
    "### Table Manager Class"
   ]
  },
  {
   "cell_type": "code",
   "execution_count": 10,
   "metadata": {},
   "outputs": [],
   "source": [
    "TABLES_PATH = getenv('TABLES_PATH')\n",
    "manager = TableManager(TABLES_PATH)"
   ]
  },
  {
   "cell_type": "code",
   "execution_count": 11,
   "metadata": {},
   "outputs": [
    {
     "name": "stdout",
     "output_type": "stream",
     "text": [
      "Table Name: dot_faf\n",
      "Description: Table 'dot_faf' has freight movement among states and major metropolitan areas by all modes of transportation. Shows which goods are shipped from one region of the US to another region, according to type of commodity, mode of shipment, value, and weight.\n",
      "Dimensions: Year (No description), SCTG2 (products based on SCTG classification (first level).), Transportation Mode (mode of transportation or shipment.), Origin (Origin region or state of the shipment), Destination (Destination region or state of the shipment)\n",
      "Measures: Millions Of Dollars (value in millions of dollars of a certain shipment.), Thousands Of Tons (weight in thousands of tons of a certain shipment.)\n",
      "\n",
      "\n",
      "Table Name: ed_defaults\n",
      "Description: Table `ed_defaults` has cohort default rates of schools.\n",
      "Dimensions: Year (No description), Geography (geographical dimension of the data, either state or county level.), OPEID (School name according to the Office of Postsecondary Education Identifier)\n",
      "Measures: Borrowers in Default (Number of borrowers in default), Default Rate (No description)\n",
      "\n"
     ]
    }
   ],
   "source": [
    "tables = manager.get_table_schemas(['dot_faf', 'ed_defaults'])\n",
    "print(tables)"
   ]
  },
  {
   "cell_type": "code",
   "execution_count": 4,
   "metadata": {},
   "outputs": [
    {
     "name": "stdout",
     "output_type": "stream",
     "text": [
      "Table Name: Consumer Price Index - CPI\n",
      "Description: Table 'Consumer Price Index - CPI' has price index for products, encompassing over 200 expenditure categories grouped into major segments (food and beverages, housing, apparel, recreation, and other goods).\n",
      "Dimensions: Year (periodicity of the data), Month and Year (periodicity of the data with the format YYYYMM (example March of 2015 is 201503)), Level 1.1 (most general level of products and services), Level 2.2 (No description), Level 3.3 (No description), Level 4.4 (No description), Level 5.5 (most detailed level of products and services)\n",
      "Measures: Consumer Price Index (consumer price index), Standard Error (standard error of CPI), Percent Change (percentage change)\n",
      "\n",
      "\n",
      "Table Name: dot_faf\n",
      "Description: Table 'dot_faf' has freight movement among states and major metropolitan areas by all modes of transportation. Shows which goods are shipped from one region of the US to another region, according to type of commodity, mode of shipment, value, and weight.\n",
      "Dimensions: Year (year), SCTG2 (products based on SCTG classification (first level).), Transportation Mode (mode of transportation or shipment.), Origin State (Origin state), Origin Region (Origin region), Destination State (Destination state), Destination Region (Destination region)\n",
      "Measures: Millions Of Dollars (value in millions of dollars of a certain shipment.), Thousands Of Tons (weight in thousands of tons of a certain shipment.)\n",
      "\n",
      "\n",
      "Table Name: ed_defaults\n",
      "Description: Table `ed_defaults` has cohort default rates of schools.\n",
      "Dimensions: Year (No description), State (US states), County (US counties), OPEID (School name according to the Office of Postsecondary Education Identifier)\n",
      "Measures: Borrowers in Default (Number of borrowers in default), Default Rate (No description)\n",
      "\n",
      "\n",
      "Table Name: pums_5\n",
      "Description: Table 'pums_5' has data on total population and average wages by Year, Nation, State or PUMA, age, gender, race, PUMS occupation and PUMS industry. You can query any combination of these.\n",
      "Dimensions: Year (No description), Nation (national level data (USA)), State (US states), PUMA (US PUMAs (public use microdata areas)), Age (No description), Gender (No description), Race (No description), Major Occupation Group (PUMS Occupation most general classification), Minor Occupation Group (PUMS minor Occupation classification), Broad Occupation (PUMS broad Occupation classification), Detailed Occupation (PUMS most detailed Occupation classification), Industry Sector (PUMS industry sector classification (most general classification)), Industry Sub-Sector (PUMS industry sub-sector classification), Industry Group (PUMS industry group classification (most detailed classification))\n",
      "Measures: Average Wage (No description), Total Population (No description), Average Income (No description), Average Age (No description)\n",
      "\n",
      "\n",
      "Table Name: Data_USA_Senate_election\n",
      "Description: Table `Data_USA_Senate_election` has data on number of votes by senate candidate, party and state.\n",
      "Dimensions: Candidate (No description), State (US states), Party (Political party of the candidate), Year (No description)\n",
      "Measures: Candidate Votes (Contains the total votes for a House candidate in a certain year.), Total Votes (Contains the total votes in a certain state for a certain year.)\n",
      "\n",
      "\n",
      "Table Name: Data_USA_President_election\n",
      "Description: Table `Data_USA_President_election` has data on number votes by presidential candidate, party and state.\n",
      "Dimensions: Candidate (No description), State (US states), County (US counties), Party (Political party of the candidate), Year (No description)\n",
      "Measures: Candidate Votes (Contains the total votes for a presidential candidate in a certain year.), Total Votes (Contains the total votes in a certain state for a certain year.)\n",
      "\n",
      "\n",
      "Table Name: Data_USA_House_election\n",
      "Description: Table `Data_USA_House_election` has data on number votes by House candidate, party and state.\n",
      "Dimensions: Candidate (No description), State (US states), Congressional District (US counties), Party (Political party of the candidate), Year (No description)\n",
      "Measures: Candidate Votes (Contains the total votes for a presidential candidate in a certain year.), Total Votes (Contains the total votes in a certain state for a certain year.)\n",
      "\n"
     ]
    }
   ],
   "source": [
    "tables = manager.get_table_schemas()\n",
    "print(tables)"
   ]
  },
  {
   "cell_type": "code",
   "execution_count": 5,
   "metadata": {},
   "outputs": [
    {
     "data": {
      "text/plain": [
       "['Consumer Price Index - CPI',\n",
       " 'dot_faf',\n",
       " 'ed_defaults',\n",
       " 'pums_5',\n",
       " 'Data_USA_Senate_election',\n",
       " 'Data_USA_President_election',\n",
       " 'Data_USA_House_election']"
      ]
     },
     "execution_count": 5,
     "metadata": {},
     "output_type": "execute_result"
    }
   ],
   "source": [
    "manager.list_tables()"
   ]
  },
  {
   "cell_type": "code",
   "execution_count": 6,
   "metadata": {},
   "outputs": [
    {
     "name": "stdout",
     "output_type": "stream",
     "text": [
      "Table Name: dot_faf\n",
      "Description: Table 'dot_faf' has freight movement among states and major metropolitan areas by all modes of transportation. Shows which goods are shipped from one region of the US to another region, according to type of commodity, mode of shipment, value, and weight.\n",
      "Measures: Millions Of Dollars: value in millions of dollars of a certain shipment., Thousands Of Tons: weight in thousands of tons of a certain shipment.\n",
      "Variables: Year: year, SCTG2: products based on SCTG classification (first level)., Transportation Mode: mode of transportation or shipment., Origin State: Origin state, Origin Region: Origin region, Destination State: Destination state, Destination Region: Destination region\n",
      "\n"
     ]
    }
   ],
   "source": [
    "table = manager.get_table('dot_faf')\n",
    "print(table)"
   ]
  },
  {
   "cell_type": "markdown",
   "metadata": {},
   "source": [
    "### Table Class"
   ]
  },
  {
   "cell_type": "code",
   "execution_count": 7,
   "metadata": {},
   "outputs": [
    {
     "data": {
      "text/plain": [
       "'dot_faf'"
      ]
     },
     "execution_count": 7,
     "metadata": {},
     "output_type": "execute_result"
    }
   ],
   "source": [
    "table.name"
   ]
  },
  {
   "cell_type": "code",
   "execution_count": 8,
   "metadata": {},
   "outputs": [
    {
     "data": {
      "text/plain": [
       "'Tesseract'"
      ]
     },
     "execution_count": 8,
     "metadata": {},
     "output_type": "execute_result"
    }
   ],
   "source": [
    "table.api"
   ]
  },
  {
   "cell_type": "code",
   "execution_count": 9,
   "metadata": {},
   "outputs": [
    {
     "name": "stdout",
     "output_type": "stream",
     "text": [
      "Table Name: dot_faf\n",
      "Variables:\n",
      "Year (year) [Parent dimension: Year];\n",
      "SCTG2 (products based on SCTG classification (first level).) [Parent dimension: SCTG2];\n",
      "Transportation Mode (mode of transportation or shipment.) [Parent dimension: Transportation Mode];\n",
      "Origin State (Origin state) [Parent dimension: Origin];\n",
      "Origin Region (Origin region) [Parent dimension: Origin];\n",
      "Destination State (Destination state) [Parent dimension: Destination];\n",
      "Destination Region (Destination region) [Parent dimension: Destination];\n",
      "Measures:\n",
      "Millions Of Dollars (value in millions of dollars of a certain shipment.);\n",
      "Thousands Of Tons (weight in thousands of tons of a certain shipment.);\n",
      " \n",
      "\n"
     ]
    }
   ],
   "source": [
    "columns = table.columns_description()\n",
    "print(columns, \"\\n\")"
   ]
  },
  {
   "cell_type": "code",
   "execution_count": 10,
   "metadata": {},
   "outputs": [
    {
     "data": {
      "text/plain": [
       "['Year: year',\n",
       " 'SCTG2: products based on SCTG classification (first level).',\n",
       " 'Transportation Mode: mode of transportation or shipment.',\n",
       " 'Origin State: Origin state',\n",
       " 'Origin Region: Origin region',\n",
       " 'Destination State: Destination state',\n",
       " 'Destination Region: Destination region']"
      ]
     },
     "execution_count": 10,
     "metadata": {},
     "output_type": "execute_result"
    }
   ],
   "source": [
    "table.get_variables_description()"
   ]
  },
  {
   "cell_type": "code",
   "execution_count": 11,
   "metadata": {},
   "outputs": [
    {
     "data": {
      "text/plain": [
       "[{'name': 'Year',\n",
       "  'description': 'year',\n",
       "  'parent dimension': 'Year',\n",
       "  'hierarchies': ['Year']},\n",
       " {'name': 'SCTG2',\n",
       "  'description': 'products based on SCTG classification (first level).',\n",
       "  'parent dimension': 'SCTG2',\n",
       "  'hierarchies': ['SCTG2']},\n",
       " {'name': 'Transportation Mode',\n",
       "  'description': 'mode of transportation or shipment.',\n",
       "  'parent dimension': 'Transportation Mode',\n",
       "  'hierarchies': ['Transportation Mode']},\n",
       " {'name': 'Origin State',\n",
       "  'description': 'Origin state',\n",
       "  'parent dimension': 'Origin',\n",
       "  'hierarchies': ['Origin State', 'Origin Region']},\n",
       " {'name': 'Origin Region',\n",
       "  'description': 'Origin region',\n",
       "  'parent dimension': 'Origin',\n",
       "  'hierarchies': ['Origin State', 'Origin Region']},\n",
       " {'name': 'Destination State',\n",
       "  'description': 'Destination state',\n",
       "  'parent dimension': 'Destination',\n",
       "  'hierarchies': ['Destination State', 'Destination Region']},\n",
       " {'name': 'Destination Region',\n",
       "  'description': 'Destination region',\n",
       "  'parent dimension': 'Destination',\n",
       "  'hierarchies': ['Destination State', 'Destination Region']}]"
      ]
     },
     "execution_count": 11,
     "metadata": {},
     "output_type": "execute_result"
    }
   ],
   "source": [
    "table.variables"
   ]
  },
  {
   "cell_type": "code",
   "execution_count": 12,
   "metadata": {},
   "outputs": [
    {
     "data": {
      "text/plain": [
       "[{'name': 'Millions Of Dollars',\n",
       "  'description': 'value in millions of dollars of a certain shipment.'},\n",
       " {'name': 'Thousands Of Tons',\n",
       "  'description': 'weight in thousands of tons of a certain shipment.'}]"
      ]
     },
     "execution_count": 12,
     "metadata": {},
     "output_type": "execute_result"
    }
   ],
   "source": [
    "table.measures"
   ]
  },
  {
   "cell_type": "code",
   "execution_count": 13,
   "metadata": {},
   "outputs": [
    {
     "name": "stdout",
     "output_type": "stream",
     "text": [
      "Table Name: dot_faf\n",
      "Description: Table 'dot_faf' has freight movement among states and major metropolitan areas by all modes of transportation. Shows which goods are shipped from one region of the US to another region, according to type of commodity, mode of shipment, value, and weight.\n",
      "Measures: Millions Of Dollars: value in millions of dollars of a certain shipment., Thousands Of Tons: weight in thousands of tons of a certain shipment.\n",
      "Variables: Year: year, SCTG2: products based on SCTG classification (first level)., Transportation Mode: mode of transportation or shipment., Origin State: Origin state, Origin Region: Origin region, Destination State: Destination state, Destination Region: Destination region\n",
      "\n"
     ]
    }
   ],
   "source": [
    "print(table)"
   ]
  }
 ],
 "metadata": {
  "kernelspec": {
   "display_name": "ai-env",
   "language": "python",
   "name": "python3"
  },
  "language_info": {
   "codemirror_mode": {
    "name": "ipython",
    "version": 3
   },
   "file_extension": ".py",
   "mimetype": "text/x-python",
   "name": "python",
   "nbconvert_exporter": "python",
   "pygments_lexer": "ipython3",
   "version": "3.11.3"
  }
 },
 "nbformat": 4,
 "nbformat_minor": 2
}
