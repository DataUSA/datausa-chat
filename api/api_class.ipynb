{
 "cells": [
  {
   "cell_type": "code",
   "execution_count": 5,
   "metadata": {},
   "outputs": [
    {
     "name": "stdout",
     "output_type": "stream",
     "text": [
      "The dotenv extension is already loaded. To reload it, use:\n",
      "  %reload_ext dotenv\n"
     ]
    }
   ],
   "source": [
    "%load_ext dotenv\n",
    "%dotenv\n",
    "\n",
    "from src.utils.api_data_request.api import *"
   ]
  },
  {
   "cell_type": "code",
   "execution_count": 2,
   "metadata": {},
   "outputs": [],
   "source": [
    "jsondata = {\n",
    "    \"variables\": [\"Time\", \"Products or Services\"],\n",
    "    \"measures\": [\"Consumer Price Index\", \"Percent Change\"],\n",
    "    \"filters\": [\"Time = 2019\", \"Time = 2020\", \"Time = 2021\", \"Products or Services = Fresh Fruits\"]\n",
    "}\n",
    "\n",
    "v = jsondata[\"variables\"]\n",
    "m = jsondata[\"measures\"]\n",
    "c = jsondata[\"filters\"]"
   ]
  },
  {
   "cell_type": "code",
   "execution_count": 3,
   "metadata": {},
   "outputs": [],
   "source": [
    "from src.utils.table_selection.table_selector import *\n",
    "from src.utils.table_selection.table_details import *\n",
    "\n",
    "TABLES_PATH = getenv('TABLES_PATH')\n",
    "manager = TableManager(TABLES_PATH)"
   ]
  },
  {
   "cell_type": "code",
   "execution_count": 4,
   "metadata": {},
   "outputs": [],
   "source": [
    "table = manager.get_table(\"Consumer Price Index - CPI\")"
   ]
  },
  {
   "cell_type": "code",
   "execution_count": 5,
   "metadata": {},
   "outputs": [
    {
     "name": "stdout",
     "output_type": "stream",
     "text": [
      "https://api-dev.datausa.io/tesseract/data.jsonrecords?cube=Consumer Price Index - CPI&Time=2021,2019,2020&Level 5.5=501010407009&drilldowns=Level 5.5,Time&measures=Consumer Price Index,Percent Change\n"
     ]
    },
    {
     "data": {
      "text/plain": [
       "'https://api-dev.datausa.io/tesseract/data.jsonrecords?cube=Consumer Price Index - CPI&Time=2021,2019,2020&Level 5.5=501010407009&drilldowns=Level 5.5,Time&measures=Consumer Price Index,Percent Change'"
      ]
     },
     "execution_count": 5,
     "metadata": {},
     "output_type": "execute_result"
    }
   ],
   "source": [
    "api_build(table, manager, v, m, c)"
   ]
  },
  {
   "cell_type": "code",
   "execution_count": null,
   "metadata": {},
   "outputs": [],
   "source": []
  },
  {
   "cell_type": "code",
   "execution_count": null,
   "metadata": {},
   "outputs": [],
   "source": []
  }
 ],
 "metadata": {
  "kernelspec": {
   "display_name": "ai-env",
   "language": "python",
   "name": "python3"
  },
  "language_info": {
   "codemirror_mode": {
    "name": "ipython",
    "version": 3
   },
   "file_extension": ".py",
   "mimetype": "text/x-python",
   "name": "python",
   "nbconvert_exporter": "python",
   "pygments_lexer": "ipython3",
   "version": "3.11.3"
  }
 },
 "nbformat": 4,
 "nbformat_minor": 2
}
