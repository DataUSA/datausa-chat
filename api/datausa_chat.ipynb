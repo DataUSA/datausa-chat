{
 "cells": [
  {
   "cell_type": "markdown",
   "metadata": {},
   "source": [
    "# Table selection"
   ]
  },
  {
   "cell_type": "code",
   "execution_count": 1,
   "metadata": {},
   "outputs": [],
   "source": [
    "%load_ext dotenv\n",
    "%dotenv"
   ]
  },
  {
   "cell_type": "code",
   "execution_count": 2,
   "metadata": {},
   "outputs": [],
   "source": [
    "from utils.table_selection.table_selector import *\n",
    "from utils.table_selection.table_details import *\n",
    "from utils.api_data_request.api_generator import *"
   ]
  },
  {
   "cell_type": "code",
   "execution_count": 3,
   "metadata": {},
   "outputs": [
    {
     "name": "stdout",
     "output_type": "stream",
     "text": [
      "table name: Consumer Price Index - CPI\n",
      "table description: Table 'Consumer Price Index - CPI' has price index for products, encompassing over 200 expenditure categories grouped into major segments (food and beverages, housing, apparel, recreation, and other goods).\n",
      "table columns: Year [INTEGER] (year), Consumer Price Inde [FLOAT] (consumer price index), Standard Error [FLOAT] (standard error or CPI), Percent Change [FLOAT] (percentage change), Level 1.1 [TEXT] (enums `PRODUCTS_1`, Level 1 classification of products), Level 2.1 [TEXT] (Level 2.1 classification of products/services)\n",
      "\n",
      "\n",
      "table name: dot_faf\n",
      "table description: Table 'dot_faf' has freight movement among states and major metropolitan areas by all modes of transportation. Shows which goods are shipped from one region of the US to another region, according to type of commodity, mode of shipment, value, and weight.\n",
      "table columns: Year [INTEGER] (year), Millions Of Dollars [FLOAT] (value in millions of dollars of a certain shipment.), Thousands Of Tons [FLOAT] (weight in thousands of tons of a certain shipment.), Origin State [TEXT] (origin state), Origin Region [TEXT] (origin region), Destination State [TEXT] (destination state), Destination Region [TEXT] (destination region), SCTG2 [TEXT] (products based on SCTG classification (first level).), Transportation Mode [TEXT] (mode of transportation or shipment.)\n",
      "\n",
      "\n",
      "table name: ed_defaults\n",
      "table description: Table `ed_defaults` has cohort default rates of schools.\n",
      "table columns: Borrowers in Default [INTEGER] (Number of borrowers in default), Default Rate [FLOAT], Year [INTEGER], State [TEXT] (US states), OPEID [School name according to the Office of Postsecondary Education Identifier], OPEID ID [ID of schools according to the Office of Postsecondary Education Identifier]\n",
      "\n",
      "\n",
      "table name: pums_5\n",
      "table description: Table 'pums_5' has data on total population and average wages by Year, Nation, State or PUMA, age, gender, race, PUMS occupation and PUMS industry. You can query any combination of these.\n",
      "table columns: Year [INTEGER] (year), Nation [TEXT], State [TEXT], PUMA [TEXT] (public use microdata areas), Age [INTEGER], Gender [TEXT], Race [TEXT], PUMS occupation [TEXT] (PUMS Occupation classification), PUMS industry [TEXT] (PUMS industry classification), Average Wage [INTEGER], Total Population [INTEGER], Average Income [INTEGER], Average Age [INTEGER]\n",
      " \n",
      "\n"
     ]
    }
   ],
   "source": [
    "table_descriptions = get_table_schemas()\n",
    "print(table_descriptions, \"\\n\")"
   ]
  },
  {
   "cell_type": "code",
   "execution_count": 4,
   "metadata": {},
   "outputs": [
    {
     "data": {
      "text/plain": [
       "['Consumer Price Index - CPI', 'dot_faf', 'ed_defaults', 'pums_5']"
      ]
     },
     "execution_count": 4,
     "metadata": {},
     "output_type": "execute_result"
    }
   ],
   "source": [
    "get_table_names()"
   ]
  },
  {
   "cell_type": "code",
   "execution_count": 5,
   "metadata": {},
   "outputs": [],
   "source": [
    "query = 'how much coal was moved between New York and California in 2020?'"
   ]
  },
  {
   "cell_type": "markdown",
   "metadata": {},
   "source": [
    "#### Getting table from LLM (OpenAI's API)"
   ]
  },
  {
   "cell_type": "code",
   "execution_count": 6,
   "metadata": {},
   "outputs": [
    {
     "name": "stdout",
     "output_type": "stream",
     "text": [
      "Messages:\n",
      " [{'role': 'user', 'content': 'What service presented the highest growth in the consumer price index during the last year?'}, {'role': 'assistant', 'content': '\\n{\\n    \"tables\": [\"Consumer Price Index - Services\"]\\n}\\n'}, {'role': 'user', 'content': 'What is the average monthly CPI volatility for all product groups combined?'}, {'role': 'assistant', 'content': '\\n{\\n    \"tables\": [\"Consumer Price Index - Products\"]\\n}\\n'}, {'role': 'user', 'content': 'Which states or metropolitan areas are the primary origins for specific products, and which are the primary destinations?'}, {'role': 'assistant', 'content': '\\n{\\n    \"tables\": [\"Consumer Price Index - Products\"]\\n}\\n'}, {'role': 'user', 'content': 'What is the trend in total freight movement volume across all transportation modes over the past five years?'}, {'role': 'assistant', 'content': '\\n{\\n    \"tables\": [\"dot_faf\", \"us_location_data\"]\\n}\\n'}, {'role': 'user', 'content': 'What is the trend in total freight movement volume across all transportation modes over the past five years?'}, {'role': 'assistant', 'content': '\\n{\\n    \"tables\": [\"dot_faf\", \"us_location_data\"]\\n}\\n'}, {'role': 'user', 'content': '\\n        You are an expert data scientist.\\n\\n        Return a JSON object with relevant SQL tables for answering the following natural language query:\\n\\n        ---------------\\n\\n        how much coal was moved between New York and California in 2020?\\n        \\n---------------\\n\\n        Respond in JSON format with your answer in a field named \"tables\" which is a list of strings.\\n\\n        Respond with an empty list if you cannot identify any relevant tables.\\n\\n        Write your answer in markdown format.\\n\\n        \\n            The following is a table that can be used to answer the natural language query, along with the definition of its enums:\\n\\n            ---------------------\\n\\n            table name: Consumer Price Index - CPI\\ntable description: Table \\'Consumer Price Index - CPI\\' has price index for products, encompassing over 200 expenditure categories grouped into major segments (food and beverages, housing, apparel, recreation, and other goods).\\ntable columns: Year [INTEGER] (year), Consumer Price Inde [FLOAT] (consumer price index), Standard Error [FLOAT] (standard error or CPI), Percent Change [FLOAT] (percentage change), Level 1.1 [TEXT] (enums `PRODUCTS_1`, Level 1 classification of products), Level 2.1 [TEXT] (Level 2.1 classification of products/services)\\n\\n\\ntable name: dot_faf\\ntable description: Table \\'dot_faf\\' has freight movement among states and major metropolitan areas by all modes of transportation. Shows which goods are shipped from one region of the US to another region, according to type of commodity, mode of shipment, value, and weight.\\ntable columns: Year [INTEGER] (year), Millions Of Dollars [FLOAT] (value in millions of dollars of a certain shipment.), Thousands Of Tons [FLOAT] (weight in thousands of tons of a certain shipment.), Origin State [TEXT] (origin state), Origin Region [TEXT] (origin region), Destination State [TEXT] (destination state), Destination Region [TEXT] (destination region), SCTG2 [TEXT] (products based on SCTG classification (first level).), Transportation Mode [TEXT] (mode of transportation or shipment.)\\n\\n\\ntable name: ed_defaults\\ntable description: Table `ed_defaults` has cohort default rates of schools.\\ntable columns: Borrowers in Default [INTEGER] (Number of borrowers in default), Default Rate [FLOAT], Year [INTEGER], State [TEXT] (US states), OPEID [School name according to the Office of Postsecondary Education Identifier], OPEID ID [ID of schools according to the Office of Postsecondary Education Identifier]\\n\\n\\ntable name: pums_5\\ntable description: Table \\'pums_5\\' has data on total population and average wages by Year, Nation, State or PUMA, age, gender, race, PUMS occupation and PUMS industry. You can query any combination of these.\\ntable columns: Year [INTEGER] (year), Nation [TEXT], State [TEXT], PUMA [TEXT] (public use microdata areas), Age [INTEGER], Gender [TEXT], Race [TEXT], PUMS occupation [TEXT] (PUMS Occupation classification), PUMS industry [TEXT] (PUMS industry classification), Average Wage [INTEGER], Total Population [INTEGER], Average Income [INTEGER], Average Age [INTEGER]\\n\\n            ---------------------\\n\\n\\n            in your answer, provide the following information:\\n\\n            \\n            - <one to two sentence comment explaining what tables can be relevant goes here>\\n\\n            - <comment double checking the table is the one above along with what the first column in the table is or (none) if it doesn\\'t exist.>\\n\\n            - <finally select the most relevant table that can be used to answer the query.>\\n            - the markdown formatted like this:\\n\\n            ```\\n\\n            <json of the most relevant table>\\n\\n            ```\\n\\n\\n            Provide only the most relevant table and nothing else after.\\n            '}] \n",
      "\n",
      "\n",
      "\n",
      "ChatGPT response: The relevant table for this query would be 'dot_faf' as it contains information about freight movement among states and major metropolitan areas by all modes of transportation. It shows which goods are shipped from one region of the US to another region, according to type of commodity, mode of shipment, value, and weight.\n",
      "\n",
      "```\n",
      "{\n",
      "    \"tables\": [\"dot_faf\"]\n",
      "}\n",
      "```\n",
      "\n",
      "Tables: {\n",
      "    \"tables\": [\"dot_faf\"]\n",
      "}\n"
     ]
    }
   ],
   "source": [
    "table_llm = get_relevant_tables_from_lm(query)\n"
   ]
  },
  {
   "cell_type": "code",
   "execution_count": 7,
   "metadata": {},
   "outputs": [
    {
     "name": "stdout",
     "output_type": "stream",
     "text": [
      "['dot_faf']\n"
     ]
    }
   ],
   "source": [
    "print(table_llm)\n"
   ]
  },
  {
   "cell_type": "markdown",
   "metadata": {},
   "source": [
    "#### Getting table from DB (with embeddings)"
   ]
  },
  {
   "cell_type": "code",
   "execution_count": 8,
   "metadata": {},
   "outputs": [
    {
     "name": "stdout",
     "output_type": "stream",
     "text": [
      "DF:   table_name  similarity\n",
      "0    dot_faf    0.204381\n"
     ]
    }
   ],
   "source": [
    "table_db = get_relevant_tables_from_database(query)"
   ]
  },
  {
   "cell_type": "code",
   "execution_count": 9,
   "metadata": {},
   "outputs": [
    {
     "data": {
      "text/plain": [
       "\"table name: dot_faf\\ntable description: Table 'dot_faf' has freight movement among states and major metropolitan areas by all modes of transportation. Shows which goods are shipped from one region of the US to another region, according to type of commodity, mode of shipment, value, and weight.\\ntable columns: Year [INTEGER] (year), Millions Of Dollars [FLOAT] (value in millions of dollars of a certain shipment.), Thousands Of Tons [FLOAT] (weight in thousands of tons of a certain shipment.), Origin State [TEXT] (origin state), Origin Region [TEXT] (origin region), Destination State [TEXT] (destination state), Destination Region [TEXT] (destination region), SCTG2 [TEXT] (products based on SCTG classification (first level).), Transportation Mode [TEXT] (mode of transportation or shipment.)\\n\""
      ]
     },
     "execution_count": 9,
     "metadata": {},
     "output_type": "execute_result"
    }
   ],
   "source": [
    "get_table_schemas(table_db)"
   ]
  },
  {
   "cell_type": "markdown",
   "metadata": {},
   "source": [
    "#### Getting table with hybrid approach \n",
    "- Gets top k matches from DB, then asks the LLM to choose the most relevant"
   ]
  },
  {
   "cell_type": "code",
   "execution_count": 10,
   "metadata": {},
   "outputs": [
    {
     "name": "stdout",
     "output_type": "stream",
     "text": [
      "DF:                    table_name  similarity\n",
      "0                     dot_faf    0.204381\n",
      "1                      pums_5    0.181877\n",
      "2  Consumer Price Index - CPI    0.109880\n",
      "Messages:\n",
      " [{'role': 'user', 'content': 'What service presented the highest growth in the consumer price index during the last year?'}, {'role': 'assistant', 'content': '\\n{\\n    \"tables\": [\"Consumer Price Index - Services\"]\\n}\\n'}, {'role': 'user', 'content': 'What is the average monthly CPI volatility for all product groups combined?'}, {'role': 'assistant', 'content': '\\n{\\n    \"tables\": [\"Consumer Price Index - Products\"]\\n}\\n'}, {'role': 'user', 'content': 'Which states or metropolitan areas are the primary origins for specific products, and which are the primary destinations?'}, {'role': 'assistant', 'content': '\\n{\\n    \"tables\": [\"Consumer Price Index - Products\"]\\n}\\n'}, {'role': 'user', 'content': 'What is the trend in total freight movement volume across all transportation modes over the past five years?'}, {'role': 'assistant', 'content': '\\n{\\n    \"tables\": [\"dot_faf\", \"us_location_data\"]\\n}\\n'}, {'role': 'user', 'content': 'What is the trend in total freight movement volume across all transportation modes over the past five years?'}, {'role': 'assistant', 'content': '\\n{\\n    \"tables\": [\"dot_faf\", \"us_location_data\"]\\n}\\n'}, {'role': 'user', 'content': '\\n        You are an expert data scientist.\\n\\n        Return a JSON object with relevant SQL tables for answering the following natural language query:\\n\\n        ---------------\\n\\n        how much coal was moved between New York and California in 2020?\\n        \\n---------------\\n\\n        Respond in JSON format with your answer in a field named \"tables\" which is a list of strings.\\n\\n        Respond with an empty list if you cannot identify any relevant tables.\\n\\n        Write your answer in markdown format.\\n\\n        \\n            The following are the tables you can query and the definition of their enums:\\n\\n            ---------------------\\n\\n            table name: Consumer Price Index - CPI\\ntable description: Table \\'Consumer Price Index - CPI\\' has price index for products, encompassing over 200 expenditure categories grouped into major segments (food and beverages, housing, apparel, recreation, and other goods).\\ntable columns: Year [INTEGER] (year), Consumer Price Inde [FLOAT] (consumer price index), Standard Error [FLOAT] (standard error or CPI), Percent Change [FLOAT] (percentage change), Level 1.1 [TEXT] (enums `PRODUCTS_1`, Level 1 classification of products), Level 2.1 [TEXT] (Level 2.1 classification of products/services)\\n\\n\\ntable name: dot_faf\\ntable description: Table \\'dot_faf\\' has freight movement among states and major metropolitan areas by all modes of transportation. Shows which goods are shipped from one region of the US to another region, according to type of commodity, mode of shipment, value, and weight.\\ntable columns: Year [INTEGER] (year), Millions Of Dollars [FLOAT] (value in millions of dollars of a certain shipment.), Thousands Of Tons [FLOAT] (weight in thousands of tons of a certain shipment.), Origin State [TEXT] (origin state), Origin Region [TEXT] (origin region), Destination State [TEXT] (destination state), Destination Region [TEXT] (destination region), SCTG2 [TEXT] (products based on SCTG classification (first level).), Transportation Mode [TEXT] (mode of transportation or shipment.)\\n\\n\\ntable name: pums_5\\ntable description: Table \\'pums_5\\' has data on total population and average wages by Year, Nation, State or PUMA, age, gender, race, PUMS occupation and PUMS industry. You can query any combination of these.\\ntable columns: Year [INTEGER] (year), Nation [TEXT], State [TEXT], PUMA [TEXT] (public use microdata areas), Age [INTEGER], Gender [TEXT], Race [TEXT], PUMS occupation [TEXT] (PUMS Occupation classification), PUMS industry [TEXT] (PUMS industry classification), Average Wage [INTEGER], Total Population [INTEGER], Average Income [INTEGER], Average Age [INTEGER]\\n\\n            ---------------------\\n\\n\\n            in your answer, provide the following information:\\n\\n            \\n            - <one to two sentence comment explaining what tables can be relevant goes here>\\n\\n            - <for each table identified, comment double checking the table is in the schema above along with what the first column in the table is or (none) if it doesn\\'t exist. be careful that any tables suggested were actually above>\\n\\n            - <if any tables were incorrectly identified, make a note here about what tables from the schema should actually be used if any>\\n\\n            - the markdown formatted like this:\\n\\n            ```\\n\\n            <json of the tables>\\n\\n            ```\\n\\n\\n            Provide only the list of related tables and nothing else after.\\n            '}] \n",
      "\n",
      "\n",
      "\n",
      "ChatGPT response: The relevant table for this query is 'dot_faf' as it contains information about freight movement among states and major metropolitan areas by all modes of transportation. It includes data on the type of commodity, mode of shipment, value, and weight.\n",
      "\n",
      "The 'dot_faf' table is indeed in the schema provided above. The first column in this table is 'Year'.\n",
      "\n",
      "No tables were incorrectly identified.\n",
      "\n",
      "```\n",
      "{\n",
      "    \"tables\": [\"dot_faf\"]\n",
      "}\n",
      "```\n",
      "\n",
      "Tables: {\n",
      "    \"tables\": [\"dot_faf\"]\n",
      "}\n"
     ]
    }
   ],
   "source": [
    "table_db_llm = request_tables_to_lm_from_db(query)"
   ]
  },
  {
   "cell_type": "markdown",
   "metadata": {},
   "source": [
    "# API parameter generator"
   ]
  },
  {
   "cell_type": "code",
   "execution_count": 11,
   "metadata": {},
   "outputs": [
    {
     "name": "stdout",
     "output_type": "stream",
     "text": [
      "\n",
      "ChatGPT response: The chosen variables, measures and filters can answer the query because they directly correspond to the information requested in the query: the amount of coal moved (measure), between New York and California (variables), in 2020 (filter).\n",
      "\n",
      "The variables \"Origin State\" and \"Destination State\" exist in the table and will be used to specify the locations New York and California. The measure \"Thousands Of Tons\" exists in the table and will be used to quantify the amount of coal moved. The filter \"Year = 2020\" exists in the table and will be used to specify the time frame of interest. Additionally, the filter \"SCTG2 = Coal\" will be used to specify the type of commodity, which is also present in the table.\n",
      "\n",
      "```json\n",
      "{\n",
      "    \"variables\": [\"Origin State\", \"Destination State\"],\n",
      "    \"measures\": [\"Thousands Of Tons\"],\n",
      "    \"filters\": [\"Year = 2020\", \"SCTG2 = Coal\", \"Origin State = New York\", \"Destination State = California\"]\n",
      "}\n",
      "```\n",
      "\n",
      "Parameters: {\n",
      "    \"variables\": [\"Origin State\", \"Destination State\"],\n",
      "    \"measures\": [\"Thousands Of Tons\"],\n",
      "    \"filters\": [\"Year = 2020\", \"SCTG2 = Coal\", \"Origin State = New York\", \"Destination State = California\"]\n",
      "}\n"
     ]
    }
   ],
   "source": [
    "v, m, c = get_api_params_from_lm(query, table_db_llm[0], model = 'gpt-4-1106-preview')"
   ]
  },
  {
   "cell_type": "code",
   "execution_count": 12,
   "metadata": {},
   "outputs": [
    {
     "name": "stdout",
     "output_type": "stream",
     "text": [
      "Variables:\n",
      "\n",
      " ['Origin State', 'Destination State'] \n",
      " \n",
      "Measures:\n",
      "\n",
      " ['Thousands Of Tons'] \n",
      " \n",
      "Cuts:\n",
      "\n",
      " ['Year = 2020', 'SCTG2 = Coal', 'Origin State = New York', 'Destination State = California']\n"
     ]
    }
   ],
   "source": [
    "print(\"Variables:\\n\\n\", v, \"\\n\", \"\\nMeasures:\\n\\n\", m, \"\\n\", \"\\nCuts:\\n\\n\", c)"
   ]
  },
  {
   "cell_type": "code",
   "execution_count": 13,
   "metadata": {},
   "outputs": [],
   "source": [
    "api_url = api_build(table = table_db_llm[0], drilldowns = v, measures = m, cuts = c)"
   ]
  },
  {
   "cell_type": "code",
   "execution_count": 14,
   "metadata": {},
   "outputs": [
    {
     "data": {
      "text/plain": [
       "'https://api-ts-zircon.datausa.io/tesseract/data.jsonrecords?cube=dot_faf&&drilldowns=Origin+State,Destination+State&measures=Thousands+Of+Tons&Year=2020&SCTG2=15&Origin State=04000US36&Destination State=04000US06'"
      ]
     },
     "execution_count": 14,
     "metadata": {},
     "output_type": "execute_result"
    }
   ],
   "source": [
    "api_url"
   ]
  },
  {
   "cell_type": "markdown",
   "metadata": {},
   "source": [
    "# API Request"
   ]
  },
  {
   "cell_type": "code",
   "execution_count": 12,
   "metadata": {},
   "outputs": [],
   "source": [
    "data, df = api_request(api_url)"
   ]
  },
  {
   "cell_type": "code",
   "execution_count": 13,
   "metadata": {},
   "outputs": [
    {
     "data": {
      "text/plain": [
       "[{'Origin State ID': '04000US01',\n",
       "  'Origin State': 'Alabama',\n",
       "  'Thousands Of Tons': 7598362.334556773},\n",
       " {'Origin State ID': '04000US02',\n",
       "  'Origin State': 'Alaska',\n",
       "  'Thousands Of Tons': 1239551.9880173053},\n",
       " {'Origin State ID': '04000US04',\n",
       "  'Origin State': 'Arizona',\n",
       "  'Thousands Of Tons': 3687145.6205386315},\n",
       " {'Origin State ID': '04000US05',\n",
       "  'Origin State': 'Arkansas',\n",
       "  'Thousands Of Tons': 4779858.874449888},\n",
       " {'Origin State ID': '04000US06',\n",
       "  'Origin State': 'California',\n",
       "  'Thousands Of Tons': 23684891.263292156},\n",
       " {'Origin State ID': '04000US08',\n",
       "  'Origin State': 'Colorado',\n",
       "  'Thousands Of Tons': 5810747.717232299},\n",
       " {'Origin State ID': '04000US09',\n",
       "  'Origin State': 'Connecticut',\n",
       "  'Thousands Of Tons': 2391268.6159814},\n",
       " {'Origin State ID': '04000US10',\n",
       "  'Origin State': 'Delaware',\n",
       "  'Thousands Of Tons': 923191.2903833825},\n",
       " {'Origin State ID': '04000US11',\n",
       "  'Origin State': 'District of Columbia',\n",
       "  'Thousands Of Tons': 122755.04869312332},\n",
       " {'Origin State ID': '04000US12',\n",
       "  'Origin State': 'Florida',\n",
       "  'Thousands Of Tons': 13363742.726304185},\n",
       " {'Origin State ID': '04000US13',\n",
       "  'Origin State': 'Georgia',\n",
       "  'Thousands Of Tons': 8686335.924973914},\n",
       " {'Origin State ID': '04000US15',\n",
       "  'Origin State': 'Hawaii',\n",
       "  'Thousands Of Tons': 802804.6266839288},\n",
       " {'Origin State ID': '04000US16',\n",
       "  'Origin State': 'Idaho',\n",
       "  'Thousands Of Tons': 2977743.458259399},\n",
       " {'Origin State ID': '04000US17',\n",
       "  'Origin State': 'Illinois',\n",
       "  'Thousands Of Tons': 16907174.964785043},\n",
       " {'Origin State ID': '04000US18',\n",
       "  'Origin State': 'Indiana',\n",
       "  'Thousands Of Tons': 10029380.358171992},\n",
       " {'Origin State ID': '04000US19',\n",
       "  'Origin State': 'Iowa',\n",
       "  'Thousands Of Tons': 9722662.3670313},\n",
       " {'Origin State ID': '04000US20',\n",
       "  'Origin State': 'Kansas',\n",
       "  'Thousands Of Tons': 6490734.630171478},\n",
       " {'Origin State ID': '04000US21',\n",
       "  'Origin State': 'Kentucky',\n",
       "  'Thousands Of Tons': 6200029.521427901},\n",
       " {'Origin State ID': '04000US22',\n",
       "  'Origin State': 'Louisiana',\n",
       "  'Thousands Of Tons': 17531953.73540346},\n",
       " {'Origin State ID': '04000US23',\n",
       "  'Origin State': 'Maine',\n",
       "  'Thousands Of Tons': 1483611.5191321757},\n",
       " {'Origin State ID': '04000US24',\n",
       "  'Origin State': 'Maryland',\n",
       "  'Thousands Of Tons': 3769239.8986931695},\n",
       " {'Origin State ID': '04000US25',\n",
       "  'Origin State': 'Massachusetts',\n",
       "  'Thousands Of Tons': 3485141.047921301},\n",
       " {'Origin State ID': '04000US26',\n",
       "  'Origin State': 'Michigan',\n",
       "  'Thousands Of Tons': 10047431.246994132},\n",
       " {'Origin State ID': '04000US27',\n",
       "  'Origin State': 'Minnesota',\n",
       "  'Thousands Of Tons': 10024419.838447098},\n",
       " {'Origin State ID': '04000US28',\n",
       "  'Origin State': 'Mississippi',\n",
       "  'Thousands Of Tons': 5649892.474790631},\n",
       " {'Origin State ID': '04000US29',\n",
       "  'Origin State': 'Missouri',\n",
       "  'Thousands Of Tons': 6287463.55672782},\n",
       " {'Origin State ID': '04000US30',\n",
       "  'Origin State': 'Montana',\n",
       "  'Thousands Of Tons': 2916080.7746176645},\n",
       " {'Origin State ID': '04000US31',\n",
       "  'Origin State': 'Nebraska',\n",
       "  'Thousands Of Tons': 6239736.4284066195},\n",
       " {'Origin State ID': '04000US32',\n",
       "  'Origin State': 'Nevada',\n",
       "  'Thousands Of Tons': 1833670.6006746602},\n",
       " {'Origin State ID': '04000US33',\n",
       "  'Origin State': 'New Hampshire',\n",
       "  'Thousands Of Tons': 991367.3936386949},\n",
       " {'Origin State ID': '04000US34',\n",
       "  'Origin State': 'New Jersey',\n",
       "  'Thousands Of Tons': 7136612.963827365},\n",
       " {'Origin State ID': '04000US35',\n",
       "  'Origin State': 'New Mexico',\n",
       "  'Thousands Of Tons': 2797773.0198712763},\n",
       " {'Origin State ID': '04000US36',\n",
       "  'Origin State': 'New York',\n",
       "  'Thousands Of Tons': 10392068.546989638},\n",
       " {'Origin State ID': '04000US37',\n",
       "  'Origin State': 'North Carolina',\n",
       "  'Thousands Of Tons': 6607335.048442582},\n",
       " {'Origin State ID': '04000US38',\n",
       "  'Origin State': 'North Dakota',\n",
       "  'Thousands Of Tons': 8936036.228347708},\n",
       " {'Origin State ID': '04000US39',\n",
       "  'Origin State': 'Ohio',\n",
       "  'Thousands Of Tons': 12694249.267338693},\n",
       " {'Origin State ID': '04000US40',\n",
       "  'Origin State': 'Oklahoma',\n",
       "  'Thousands Of Tons': 6208966.236566759},\n",
       " {'Origin State ID': '04000US41',\n",
       "  'Origin State': 'Oregon',\n",
       "  'Thousands Of Tons': 4356479.262295852},\n",
       " {'Origin State ID': '04000US42',\n",
       "  'Origin State': 'Pennsylvania',\n",
       "  'Thousands Of Tons': 12944382.196694646},\n",
       " {'Origin State ID': '04000US44',\n",
       "  'Origin State': 'Rhode Island',\n",
       "  'Thousands Of Tons': 729356.4135351295},\n",
       " {'Origin State ID': '04000US45',\n",
       "  'Origin State': 'South Carolina',\n",
       "  'Thousands Of Tons': 4382061.523971289},\n",
       " {'Origin State ID': '04000US46',\n",
       "  'Origin State': 'South Dakota',\n",
       "  'Thousands Of Tons': 2741159.8586013634},\n",
       " {'Origin State ID': '04000US47',\n",
       "  'Origin State': 'Tennessee',\n",
       "  'Thousands Of Tons': 6744526.586644469},\n",
       " {'Origin State ID': '04000US48',\n",
       "  'Origin State': 'Texas',\n",
       "  'Thousands Of Tons': 54204845.524075806},\n",
       " {'Origin State ID': '04000US49',\n",
       "  'Origin State': 'Utah',\n",
       "  'Thousands Of Tons': 3120412.8283478087},\n",
       " {'Origin State ID': '04000US50',\n",
       "  'Origin State': 'Vermont',\n",
       "  'Thousands Of Tons': 570241.452815388},\n",
       " {'Origin State ID': '04000US51',\n",
       "  'Origin State': 'Virginia',\n",
       "  'Thousands Of Tons': 6367951.550517709},\n",
       " {'Origin State ID': '04000US53',\n",
       "  'Origin State': 'Washington',\n",
       "  'Thousands Of Tons': 8288487.123531615},\n",
       " {'Origin State ID': '04000US54',\n",
       "  'Origin State': 'West Virginia',\n",
       "  'Thousands Of Tons': 4116103.2669475703},\n",
       " {'Origin State ID': '04000US55',\n",
       "  'Origin State': 'Wisconsin',\n",
       "  'Thousands Of Tons': 8215226.645778598},\n",
       " {'Origin State ID': '04000US56',\n",
       "  'Origin State': 'Wyoming',\n",
       "  'Thousands Of Tons': 6336468.474003034}]"
      ]
     },
     "execution_count": 13,
     "metadata": {},
     "output_type": "execute_result"
    }
   ],
   "source": [
    "data"
   ]
  },
  {
   "cell_type": "code",
   "execution_count": 10,
   "metadata": {},
   "outputs": [
    {
     "data": {
      "text/html": [
       "<div>\n",
       "<style scoped>\n",
       "    .dataframe tbody tr th:only-of-type {\n",
       "        vertical-align: middle;\n",
       "    }\n",
       "\n",
       "    .dataframe tbody tr th {\n",
       "        vertical-align: top;\n",
       "    }\n",
       "\n",
       "    .dataframe thead th {\n",
       "        text-align: right;\n",
       "    }\n",
       "</style>\n",
       "<table border=\"1\" class=\"dataframe\">\n",
       "  <thead>\n",
       "    <tr style=\"text-align: right;\">\n",
       "      <th></th>\n",
       "      <th>ID Year</th>\n",
       "      <th>Year</th>\n",
       "      <th>Average Wage</th>\n",
       "    </tr>\n",
       "  </thead>\n",
       "  <tbody>\n",
       "    <tr>\n",
       "      <th>0</th>\n",
       "      <td>2021</td>\n",
       "      <td>2021</td>\n",
       "      <td>27936.525449</td>\n",
       "    </tr>\n",
       "    <tr>\n",
       "      <th>1</th>\n",
       "      <td>2020</td>\n",
       "      <td>2020</td>\n",
       "      <td>26200.581324</td>\n",
       "    </tr>\n",
       "    <tr>\n",
       "      <th>2</th>\n",
       "      <td>2019</td>\n",
       "      <td>2019</td>\n",
       "      <td>25356.424307</td>\n",
       "    </tr>\n",
       "    <tr>\n",
       "      <th>3</th>\n",
       "      <td>2018</td>\n",
       "      <td>2018</td>\n",
       "      <td>24316.619758</td>\n",
       "    </tr>\n",
       "    <tr>\n",
       "      <th>4</th>\n",
       "      <td>2017</td>\n",
       "      <td>2017</td>\n",
       "      <td>23247.646201</td>\n",
       "    </tr>\n",
       "    <tr>\n",
       "      <th>5</th>\n",
       "      <td>2016</td>\n",
       "      <td>2016</td>\n",
       "      <td>22225.811092</td>\n",
       "    </tr>\n",
       "    <tr>\n",
       "      <th>6</th>\n",
       "      <td>2015</td>\n",
       "      <td>2015</td>\n",
       "      <td>21547.164279</td>\n",
       "    </tr>\n",
       "    <tr>\n",
       "      <th>7</th>\n",
       "      <td>2014</td>\n",
       "      <td>2014</td>\n",
       "      <td>21282.953902</td>\n",
       "    </tr>\n",
       "  </tbody>\n",
       "</table>\n",
       "</div>"
      ],
      "text/plain": [
       "   ID Year  Year  Average Wage\n",
       "0     2021  2021  27936.525449\n",
       "1     2020  2020  26200.581324\n",
       "2     2019  2019  25356.424307\n",
       "3     2018  2018  24316.619758\n",
       "4     2017  2017  23247.646201\n",
       "5     2016  2016  22225.811092\n",
       "6     2015  2015  21547.164279\n",
       "7     2014  2014  21282.953902"
      ]
     },
     "execution_count": 10,
     "metadata": {},
     "output_type": "execute_result"
    }
   ],
   "source": [
    "df"
   ]
  },
  {
   "cell_type": "code",
   "execution_count": null,
   "metadata": {},
   "outputs": [],
   "source": []
  }
 ],
 "metadata": {
  "kernelspec": {
   "display_name": "ai-env",
   "language": "python",
   "name": "python3"
  },
  "language_info": {
   "codemirror_mode": {
    "name": "ipython",
    "version": 3
   },
   "file_extension": ".py",
   "mimetype": "text/x-python",
   "name": "python",
   "nbconvert_exporter": "python",
   "pygments_lexer": "ipython3",
   "version": "3.11.3"
  },
  "orig_nbformat": 4
 },
 "nbformat": 4,
 "nbformat_minor": 2
}
