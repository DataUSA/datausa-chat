{
 "cells": [
  {
   "cell_type": "markdown",
   "metadata": {},
   "source": [
    "# Table selection"
   ]
  },
  {
   "cell_type": "code",
   "execution_count": 6,
   "metadata": {},
   "outputs": [],
   "source": [
    "from utils.table_selection.table_selector import *\n",
    "from utils.table_selection.table_details import *"
   ]
  },
  {
   "cell_type": "code",
   "execution_count": 2,
   "metadata": {},
   "outputs": [
    {
     "name": "stdout",
     "output_type": "stream",
     "text": [
      "table name: Consumer Price Index - Products\n",
      "table description: Table 'Consumer Price Index - CPI' has price index for products, encompassing over 200 expenditure categories grouped into major segments (food and beverages, housing, apparel, recreation, and other goods).\n",
      "table columns: Year [INTEGER] (year), Consumer Price Inde [FLOAT] (consumer price index), Standard Error [FLOAT] (standard error or CPI), Percent Change [FLOAT] (percentage change), Product or Service [TEXT] (enums `PRODUCTS_1`)\n",
      "\n",
      "\n",
      "table name: dot_faf\n",
      "table description: Table 'dot_faf' has freight movement among states and major metropolitan areas by all modes of transportation. Shows which goods are shipped from one region of the US to another region, according to type of commodity, mode of shipment, value, and weight.\n",
      "table columns: Year [INTEGER] (year), Millions Of Dollars [FLOAT] (value in millions of dollars of a certain shipment.), Thousands Of Tons [FLOAT] (weight in thousands of tons of a certain shipment.), Origin State [TEXT] (origin state), Origin Region [TEXT] (origin region), Destination State [TEXT] (destination state), Destination Region [TEXT] (destination region), SCTG2 [TEXT] (products based on SCTG classification (first level).), Transportation Mode [TEXT] (mode of transportation or shipment.)\n",
      "\n",
      "\n",
      "table name: us_location_data\n",
      "table description: Table `us_location_data` has geo_ids for zip codes.\n",
      "table columns: geo_id [TEXT] (geo ID of zip code, primary key), zip_code [TEXT], city [TEXT], county [TEXT], state [TEXT]\n",
      "\n",
      "\n",
      "table name: ed_defaults\n",
      "table description: Table `ed_defaults` has cohort default rates of schools.\n",
      "table columns: Borrowers in Default [INTEGER] (Number of borrowers in default), Default Rate [FLOAT], Year [INTEGER], State [TEXT] (US states), OPEID [School name according to the Office of Postsecondary Education Identifier], OPEID ID [ID of schools according to the Office of Postsecondary Education Identifier]\n",
      "\n",
      "\n",
      "table name: Consumer Price Index - Services\n",
      "table description: Table 'Consumer Price Index - CPI' has price index for services, encompassing expenditure categories grouped into major segments (transportation, medical care, recreation, education and communication, and other services).\n",
      "table columns: Year [INTEGER] (year), Consumer Price Inde [FLOAT] (consumer price index), Standard Error [FLOAT] (standard error or CPI), Percent Change [FLOAT] (percentage change), Product or Service [TEXT] (enums `PRODUCTS_1`)\n",
      "\n",
      "\n",
      "table name: pums_5\n",
      "table description: Table 'pums_5' has data on total population and average wages by Year, Nation, State or PUMA, age, gender, race, PUMS occupation and PUMS industry. You can query any combination of these.\n",
      "table columns: Year [INTEGER] (year), Nation [TEXT], State [TEXT], PUMA [TEXT] (public use microdata areas), Age [INTEGER], Gender [TEXT], Race [TEXT], PUMS occupation [TEXT] (PUMS Occupation classification), PUMS industry [TEXT] (PUMS industry classification)\n",
      " \n",
      "\n"
     ]
    }
   ],
   "source": [
    "table_descriptions = get_table_schemas()\n",
    "print(table_descriptions, \"\\n\")"
   ]
  },
  {
   "cell_type": "code",
   "execution_count": 3,
   "metadata": {},
   "outputs": [
    {
     "data": {
      "text/plain": [
       "['Consumer Price Index - Products',\n",
       " 'dot_faf',\n",
       " 'us_location_data',\n",
       " 'ed_defaults',\n",
       " 'Consumer Price Index - Services',\n",
       " 'pums_5']"
      ]
     },
     "execution_count": 3,
     "metadata": {},
     "output_type": "execute_result"
    }
   ],
   "source": [
    "get_table_names()"
   ]
  },
  {
   "cell_type": "code",
   "execution_count": 4,
   "metadata": {},
   "outputs": [],
   "source": [
    "query = 'What were the average salaries of managers in California during 2015?'"
   ]
  },
  {
   "cell_type": "code",
   "execution_count": 5,
   "metadata": {},
   "outputs": [
    {
     "name": "stdout",
     "output_type": "stream",
     "text": [
      "Messages:\n",
      " [{'role': 'user', 'content': 'What service presented the highest growth in the consumer price index during the last year?'}, {'role': 'assistant', 'content': '\\n{\\n    \"tables\": [\"Consumer Price Index - Services\"]\\n}\\n'}, {'role': 'user', 'content': 'What is the average monthly CPI volatility for all product groups combined?'}, {'role': 'assistant', 'content': '\\n{\\n    \"tables\": [\"Consumer Price Index - Products\"]\\n}\\n'}, {'role': 'user', 'content': 'Which states or metropolitan areas are the primary origins for specific products, and which are the primary destinations?'}, {'role': 'assistant', 'content': '\\n{\\n    \"tables\": [\"Consumer Price Index - Products\"]\\n}\\n'}, {'role': 'user', 'content': 'What is the trend in total freight movement volume across all transportation modes over the past five years?'}, {'role': 'assistant', 'content': '\\n{\\n    \"tables\": [\"dot_faf\", \"us_location_data\"]\\n}\\n'}, {'role': 'user', 'content': 'What is the trend in total freight movement volume across all transportation modes over the past five years?'}, {'role': 'assistant', 'content': '\\n{\\n    \"tables\": [\"dot_faf\", \"us_location_data\"]\\n}\\n'}, {'role': 'user', 'content': '\\n        You are an expert data scientist.\\n\\n        Return a JSON object with relevant SQL tables for answering the following natural language query:\\n\\n        ---------------\\n\\n        What were the average salaries of managers in California during 2015?\\n        \\n---------------\\n\\n        Respond in JSON format with your answer in a field named \"tables\" which is a list of strings.\\n\\n        Respond with an empty list if you cannot identify any relevant tables.\\n\\n        Write your answer in markdown format.\\n\\n        \\n            The following are the scripts that created the tables and the definition of their enums:\\n\\n            ---------------------\\n\\n            table name: Consumer Price Index - Products\\ntable description: Table \\'Consumer Price Index - CPI\\' has price index for products, encompassing over 200 expenditure categories grouped into major segments (food and beverages, housing, apparel, recreation, and other goods).\\ntable columns: Year [INTEGER] (year), Consumer Price Inde [FLOAT] (consumer price index), Standard Error [FLOAT] (standard error or CPI), Percent Change [FLOAT] (percentage change), Product or Service [TEXT] (enums `PRODUCTS_1`)\\n\\n\\ntable name: dot_faf\\ntable description: Table \\'dot_faf\\' has freight movement among states and major metropolitan areas by all modes of transportation. Shows which goods are shipped from one region of the US to another region, according to type of commodity, mode of shipment, value, and weight.\\ntable columns: Year [INTEGER] (year), Millions Of Dollars [FLOAT] (value in millions of dollars of a certain shipment.), Thousands Of Tons [FLOAT] (weight in thousands of tons of a certain shipment.), Origin State [TEXT] (origin state), Origin Region [TEXT] (origin region), Destination State [TEXT] (destination state), Destination Region [TEXT] (destination region), SCTG2 [TEXT] (products based on SCTG classification (first level).), Transportation Mode [TEXT] (mode of transportation or shipment.)\\n\\n\\ntable name: us_location_data\\ntable description: Table `us_location_data` has geo_ids for zip codes.\\ntable columns: geo_id [TEXT] (geo ID of zip code, primary key), zip_code [TEXT], city [TEXT], county [TEXT], state [TEXT]\\n\\n\\ntable name: ed_defaults\\ntable description: Table `ed_defaults` has cohort default rates of schools.\\ntable columns: Borrowers in Default [INTEGER] (Number of borrowers in default), Default Rate [FLOAT], Year [INTEGER], State [TEXT] (US states), OPEID [School name according to the Office of Postsecondary Education Identifier], OPEID ID [ID of schools according to the Office of Postsecondary Education Identifier]\\n\\n\\ntable name: Consumer Price Index - Services\\ntable description: Table \\'Consumer Price Index - CPI\\' has price index for services, encompassing expenditure categories grouped into major segments (transportation, medical care, recreation, education and communication, and other services).\\ntable columns: Year [INTEGER] (year), Consumer Price Inde [FLOAT] (consumer price index), Standard Error [FLOAT] (standard error or CPI), Percent Change [FLOAT] (percentage change), Product or Service [TEXT] (enums `PRODUCTS_1`)\\n\\n\\ntable name: pums_5\\ntable description: Table \\'pums_5\\' has data on total population and average wages by Year, Nation, State or PUMA, age, gender, race, PUMS occupation and PUMS industry. You can query any combination of these.\\ntable columns: Year [INTEGER] (year), Nation [TEXT], State [TEXT], PUMA [TEXT] (public use microdata areas), Age [INTEGER], Gender [TEXT], Race [TEXT], PUMS occupation [TEXT] (PUMS Occupation classification), PUMS industry [TEXT] (PUMS industry classification)\\n\\n            ---------------------\\n\\n\\n            in your answer, provide the following information:\\n\\n            \\n            - <one to two sentence comment explaining what tables can be relevant goes here>\\n\\n            - <for each table identified, comment double checking the table is in the schema above along with what the first column in the table is or (none) if it doesn\\'t exist. be careful that any tables suggested were actually above>\\n\\n            - <if any tables were incorrectly identified, make a note here about what tables from the schema should actually be used if any>\\n\\n            - the markdown formatted like this:\\n\\n            ```\\n\\n            <json of the tables>\\n\\n            ```\\n\\n\\n            Provide only the list of related tables and nothing else after.\\n            '}] \n",
      "\n",
      "\n",
      "\n",
      "ChatGPT response: The relevant table for this query is 'pums_5' as it contains data on average wages by state and occupation.\n",
      "\n",
      "The 'pums_5' table is in the schema provided above and the first column in the table is 'Year'.\n",
      "\n",
      "No tables were incorrectly identified.\n",
      "\n",
      "```\n",
      "{\n",
      "    \"tables\": [\"pums_5\"]\n",
      "}\n",
      "```\n",
      "\n",
      "Tables: \n",
      "{\n",
      "    \"tables\": [\"pums_5\"]\n",
      "}\n",
      "\n"
     ]
    }
   ],
   "source": [
    "tables = get_relevant_tables_from_lm(query)\n"
   ]
  },
  {
   "cell_type": "code",
   "execution_count": 6,
   "metadata": {},
   "outputs": [
    {
     "name": "stdout",
     "output_type": "stream",
     "text": [
      "['pums_5']\n"
     ]
    }
   ],
   "source": [
    "print(tables)\n"
   ]
  },
  {
   "cell_type": "code",
   "execution_count": 7,
   "metadata": {},
   "outputs": [
    {
     "name": "stdout",
     "output_type": "stream",
     "text": [
      "DF:   table_name  similarity\n",
      "0     pums_5    0.344073\n"
     ]
    }
   ],
   "source": [
    "tables_db = get_relevant_tables_from_database(query)"
   ]
  },
  {
   "cell_type": "code",
   "execution_count": 8,
   "metadata": {},
   "outputs": [
    {
     "name": "stdout",
     "output_type": "stream",
     "text": [
      "['pums_5']\n"
     ]
    }
   ],
   "source": [
    "print(tables_db)"
   ]
  },
  {
   "cell_type": "code",
   "execution_count": 9,
   "metadata": {},
   "outputs": [],
   "source": [
    "table_details = {}\n",
    "with open(\"data/tables.json\", \"r\") as f:\n",
    "    table_details = json.load(f)"
   ]
  },
  {
   "cell_type": "code",
   "execution_count": 12,
   "metadata": {},
   "outputs": [],
   "source": [
    "table_ = 'pums_5'"
   ]
  },
  {
   "cell_type": "code",
   "execution_count": 15,
   "metadata": {},
   "outputs": [
    {
     "data": {
      "text/plain": [
       "\"table name: pums_5\\ntable description: Table 'pums_5' has data on total population and average wages by Year, Nation, State or PUMA, age, gender, race, PUMS occupation and PUMS industry. You can query any combination of these.\\ntable columns: Year [INTEGER] (year), Nation [TEXT], State [TEXT], PUMA [TEXT] (public use microdata areas), Age [INTEGER], Gender [TEXT], Race [TEXT], PUMS occupation [TEXT] (PUMS Occupation classification), PUMS industry [TEXT] (PUMS industry classification)\\n\""
      ]
     },
     "execution_count": 15,
     "metadata": {},
     "output_type": "execute_result"
    }
   ],
   "source": [
    "get_table_schemas(table_)"
   ]
  },
  {
   "cell_type": "code",
   "execution_count": 10,
   "metadata": {},
   "outputs": [
    {
     "name": "stdout",
     "output_type": "stream",
     "text": [
      "DF:                         table_name  similarity\n",
      "0                           pums_5    0.344073\n",
      "1  Consumer Price Index - Products    0.101050\n",
      "2                          dot_faf    0.064463\n",
      "Messages:\n",
      " [{'role': 'user', 'content': 'What service presented the highest growth in the consumer price index during the last year?'}, {'role': 'assistant', 'content': '\\n{\\n    \"tables\": [\"Consumer Price Index - Services\"]\\n}\\n'}, {'role': 'user', 'content': 'What is the average monthly CPI volatility for all product groups combined?'}, {'role': 'assistant', 'content': '\\n{\\n    \"tables\": [\"Consumer Price Index - Products\"]\\n}\\n'}, {'role': 'user', 'content': 'Which states or metropolitan areas are the primary origins for specific products, and which are the primary destinations?'}, {'role': 'assistant', 'content': '\\n{\\n    \"tables\": [\"Consumer Price Index - Products\"]\\n}\\n'}, {'role': 'user', 'content': 'What is the trend in total freight movement volume across all transportation modes over the past five years?'}, {'role': 'assistant', 'content': '\\n{\\n    \"tables\": [\"dot_faf\", \"us_location_data\"]\\n}\\n'}, {'role': 'user', 'content': 'What is the trend in total freight movement volume across all transportation modes over the past five years?'}, {'role': 'assistant', 'content': '\\n{\\n    \"tables\": [\"dot_faf\", \"us_location_data\"]\\n}\\n'}, {'role': 'user', 'content': '\\n        You are an expert data scientist.\\n\\n        Return a JSON object with relevant SQL tables for answering the following natural language query:\\n\\n        ---------------\\n\\n        What were the average salaries of managers in California during 2015?\\n        \\n---------------\\n\\n        Respond in JSON format with your answer in a field named \"tables\" which is a list of strings.\\n\\n        Respond with an empty list if you cannot identify any relevant tables.\\n\\n        Write your answer in markdown format.\\n\\n        \\n            The following are the tables that could be used to answer the natural language query, and the definition of their enums:\\n\\n            ---------------------\\n\\n            table name: Consumer Price Index - Products\\ntable description: Table \\'Consumer Price Index - CPI\\' has price index for products, encompassing over 200 expenditure categories grouped into major segments (food and beverages, housing, apparel, recreation, and other goods).\\ntable columns: Year [INTEGER] (year), Consumer Price Inde [FLOAT] (consumer price index), Standard Error [FLOAT] (standard error or CPI), Percent Change [FLOAT] (percentage change), Product or Service [TEXT] (enums `PRODUCTS_1`)\\n\\n\\ntable name: dot_faf\\ntable description: Table \\'dot_faf\\' has freight movement among states and major metropolitan areas by all modes of transportation. Shows which goods are shipped from one region of the US to another region, according to type of commodity, mode of shipment, value, and weight.\\ntable columns: Year [INTEGER] (year), Millions Of Dollars [FLOAT] (value in millions of dollars of a certain shipment.), Thousands Of Tons [FLOAT] (weight in thousands of tons of a certain shipment.), Origin State [TEXT] (origin state), Origin Region [TEXT] (origin region), Destination State [TEXT] (destination state), Destination Region [TEXT] (destination region), SCTG2 [TEXT] (products based on SCTG classification (first level).), Transportation Mode [TEXT] (mode of transportation or shipment.)\\n\\n\\ntable name: pums_5\\ntable description: Table \\'pums_5\\' has data on total population and average wages by Year, Nation, State or PUMA, age, gender, race, PUMS occupation and PUMS industry. You can query any combination of these.\\ntable columns: Year [INTEGER] (year), Nation [TEXT], State [TEXT], PUMA [TEXT] (public use microdata areas), Age [INTEGER], Gender [TEXT], Race [TEXT], PUMS occupation [TEXT] (PUMS Occupation classification), PUMS industry [TEXT] (PUMS industry classification)\\n\\n            ---------------------\\n\\n\\n            in your answer, provide the following information:\\n\\n            \\n            - <one to two sentence comment explaining what tables can be relevant goes here>\\n\\n            - <for each table identified, comment double checking the table is in the schema above along with what the first column in the table is or (none) if it doesn\\'t exist. be careful that any tables suggested were actually above>\\n\\n            - <if any tables were incorrectly identified, make a note here about what tables from the schema should actually be used if any>\\n\\n            - <finally select the most relevant table that can be used to answer the query.>\\n            - the markdown formatted like this:\\n\\n            ```\\n\\n            <json of the most relevant table>\\n\\n            ```\\n\\n\\n            Provide only the most relevant table and nothing else after.\\n            '}] \n",
      "\n",
      "\n",
      "\n",
      "ChatGPT response: The most relevant table for this query would be 'pums_5' as it contains data on average wages by Year and State, which are the key parameters in the query. The table 'pums_5' is indeed in the schema provided above and the first column in this table is 'Year'. No tables were incorrectly identified. \n",
      "\n",
      "```\n",
      "{\n",
      "    \"tables\": [\"pums_5\"]\n",
      "}\n",
      "```\n",
      "\n",
      "Tables: \n",
      "{\n",
      "    \"tables\": [\"pums_5\"]\n",
      "}\n",
      "\n"
     ]
    }
   ],
   "source": [
    "table_selected = request_tables_to_lm_from_db(query)"
   ]
  },
  {
   "cell_type": "code",
   "execution_count": 16,
   "metadata": {},
   "outputs": [
    {
     "data": {
      "text/plain": [
       "['pums_5']"
      ]
     },
     "execution_count": 16,
     "metadata": {},
     "output_type": "execute_result"
    }
   ],
   "source": [
    "table_selected"
   ]
  },
  {
   "cell_type": "markdown",
   "metadata": {},
   "source": [
    "# API parameter generator"
   ]
  },
  {
   "cell_type": "code",
   "execution_count": 1,
   "metadata": {},
   "outputs": [],
   "source": [
    "from utils.api_data_request.api_generator import *"
   ]
  },
  {
   "cell_type": "code",
   "execution_count": 2,
   "metadata": {},
   "outputs": [
    {
     "name": "stdout",
     "output_type": "stream",
     "text": [
      "\n",
      "ChatGPT response: The chosen variables, measures and filters can answer the query because they directly relate to the information requested: the growth of average salaries of women between 2015 and 2018. The variables are time-related (Year), the measure is a numeric value (Average Wage), and the filter is based on a specific demographic group (Gender = Women).\n",
      "\n",
      "- Variables: \"Year\" is a column in the table and it is an integer, which allows us to filter the data for the years 2015 and 2018.\n",
      "- Measures: \"Average Wage\" is a column in the table and it is an integer, which allows us to calculate the average salaries.\n",
      "- Filters: \"Gender\" is a column in the table and it is a text, which allows us to filter the data for women.\n",
      "\n",
      "The JSON object would look like this:\n",
      "\n",
      "```\n",
      "{\n",
      "    \"variables\": [\"Year\"],\n",
      "    \"measures\": [\"Average Wage\"],\n",
      "    \"filters\": [\"Gender = Women\", \"Year >= 2015\", \"Year <= 2018\"]\n",
      "}\n",
      "```\n",
      "\n",
      "Parameters: \n",
      "{\n",
      "    \"variables\": [\"Year\"],\n",
      "    \"measures\": [\"Average Wage\"],\n",
      "    \"filters\": [\"Gender = Women\", \"Year >= 2015\", \"Year <= 2018\"]\n",
      "}\n",
      "\n"
     ]
    }
   ],
   "source": [
    "v, m, c = get_api_params_from_lm('how much did the average salaries of women grow between 2015 and 2018?', table_list='pums_5')"
   ]
  },
  {
   "cell_type": "code",
   "execution_count": 3,
   "metadata": {},
   "outputs": [
    {
     "name": "stdout",
     "output_type": "stream",
     "text": [
      "Variables:\n",
      "\n",
      " ['Year'] \n",
      " \n",
      "Measures:\n",
      "\n",
      " ['Average Wage'] \n",
      " \n",
      "Cuts:\n",
      "\n",
      " ['Gender = Women', 'Year >= 2015', 'Year <= 2018']\n"
     ]
    }
   ],
   "source": [
    "print(\"Variables:\\n\\n\", v, \"\\n\", \"\\nMeasures:\\n\\n\", m, \"\\n\", \"\\nCuts:\\n\\n\", c)"
   ]
  },
  {
   "cell_type": "code",
   "execution_count": 4,
   "metadata": {},
   "outputs": [],
   "source": [
    "api_url = api_build(drilldown = v[0].strip(\"'\\\"\"), measure = m[0])"
   ]
  },
  {
   "cell_type": "code",
   "execution_count": 5,
   "metadata": {},
   "outputs": [
    {
     "data": {
      "text/plain": [
       "'https://zircon.datausa.io/api/data?drilldowns=Year&measures=Average+Wage'"
      ]
     },
     "execution_count": 5,
     "metadata": {},
     "output_type": "execute_result"
    }
   ],
   "source": [
    "api_url"
   ]
  },
  {
   "cell_type": "markdown",
   "metadata": {},
   "source": [
    "# API Request"
   ]
  },
  {
   "cell_type": "code",
   "execution_count": 8,
   "metadata": {},
   "outputs": [],
   "source": [
    "data, df = api_request(api_url)"
   ]
  },
  {
   "cell_type": "code",
   "execution_count": 9,
   "metadata": {},
   "outputs": [
    {
     "data": {
      "text/plain": [
       "[{'ID Year': 2021, 'Year': '2021', 'Average Wage': 27936.525448568376},\n",
       " {'ID Year': 2020, 'Year': '2020', 'Average Wage': 26200.58132413172},\n",
       " {'ID Year': 2019, 'Year': '2019', 'Average Wage': 25356.424307177695},\n",
       " {'ID Year': 2018, 'Year': '2018', 'Average Wage': 24316.61975751166},\n",
       " {'ID Year': 2017, 'Year': '2017', 'Average Wage': 23247.646200745152},\n",
       " {'ID Year': 2016, 'Year': '2016', 'Average Wage': 22225.811091529966},\n",
       " {'ID Year': 2015, 'Year': '2015', 'Average Wage': 21547.164278533583},\n",
       " {'ID Year': 2014, 'Year': '2014', 'Average Wage': 21282.953902287813}]"
      ]
     },
     "execution_count": 9,
     "metadata": {},
     "output_type": "execute_result"
    }
   ],
   "source": [
    "data"
   ]
  },
  {
   "cell_type": "code",
   "execution_count": 10,
   "metadata": {},
   "outputs": [
    {
     "data": {
      "text/html": [
       "<div>\n",
       "<style scoped>\n",
       "    .dataframe tbody tr th:only-of-type {\n",
       "        vertical-align: middle;\n",
       "    }\n",
       "\n",
       "    .dataframe tbody tr th {\n",
       "        vertical-align: top;\n",
       "    }\n",
       "\n",
       "    .dataframe thead th {\n",
       "        text-align: right;\n",
       "    }\n",
       "</style>\n",
       "<table border=\"1\" class=\"dataframe\">\n",
       "  <thead>\n",
       "    <tr style=\"text-align: right;\">\n",
       "      <th></th>\n",
       "      <th>ID Year</th>\n",
       "      <th>Year</th>\n",
       "      <th>Average Wage</th>\n",
       "    </tr>\n",
       "  </thead>\n",
       "  <tbody>\n",
       "    <tr>\n",
       "      <th>0</th>\n",
       "      <td>2021</td>\n",
       "      <td>2021</td>\n",
       "      <td>27936.525449</td>\n",
       "    </tr>\n",
       "    <tr>\n",
       "      <th>1</th>\n",
       "      <td>2020</td>\n",
       "      <td>2020</td>\n",
       "      <td>26200.581324</td>\n",
       "    </tr>\n",
       "    <tr>\n",
       "      <th>2</th>\n",
       "      <td>2019</td>\n",
       "      <td>2019</td>\n",
       "      <td>25356.424307</td>\n",
       "    </tr>\n",
       "    <tr>\n",
       "      <th>3</th>\n",
       "      <td>2018</td>\n",
       "      <td>2018</td>\n",
       "      <td>24316.619758</td>\n",
       "    </tr>\n",
       "    <tr>\n",
       "      <th>4</th>\n",
       "      <td>2017</td>\n",
       "      <td>2017</td>\n",
       "      <td>23247.646201</td>\n",
       "    </tr>\n",
       "    <tr>\n",
       "      <th>5</th>\n",
       "      <td>2016</td>\n",
       "      <td>2016</td>\n",
       "      <td>22225.811092</td>\n",
       "    </tr>\n",
       "    <tr>\n",
       "      <th>6</th>\n",
       "      <td>2015</td>\n",
       "      <td>2015</td>\n",
       "      <td>21547.164279</td>\n",
       "    </tr>\n",
       "    <tr>\n",
       "      <th>7</th>\n",
       "      <td>2014</td>\n",
       "      <td>2014</td>\n",
       "      <td>21282.953902</td>\n",
       "    </tr>\n",
       "  </tbody>\n",
       "</table>\n",
       "</div>"
      ],
      "text/plain": [
       "   ID Year  Year  Average Wage\n",
       "0     2021  2021  27936.525449\n",
       "1     2020  2020  26200.581324\n",
       "2     2019  2019  25356.424307\n",
       "3     2018  2018  24316.619758\n",
       "4     2017  2017  23247.646201\n",
       "5     2016  2016  22225.811092\n",
       "6     2015  2015  21547.164279\n",
       "7     2014  2014  21282.953902"
      ]
     },
     "execution_count": 10,
     "metadata": {},
     "output_type": "execute_result"
    }
   ],
   "source": [
    "df"
   ]
  }
 ],
 "metadata": {
  "kernelspec": {
   "display_name": "ai-env",
   "language": "python",
   "name": "python3"
  },
  "language_info": {
   "codemirror_mode": {
    "name": "ipython",
    "version": 3
   },
   "file_extension": ".py",
   "mimetype": "text/x-python",
   "name": "python",
   "nbconvert_exporter": "python",
   "pygments_lexer": "ipython3",
   "version": "3.11.3"
  },
  "orig_nbformat": 4
 },
 "nbformat": 4,
 "nbformat_minor": 2
}
