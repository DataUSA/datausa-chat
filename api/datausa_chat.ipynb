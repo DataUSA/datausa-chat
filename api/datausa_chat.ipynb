{
 "cells": [
  {
   "cell_type": "markdown",
   "metadata": {},
   "source": [
    "# Table selection"
   ]
  },
  {
   "cell_type": "code",
   "execution_count": 1,
   "metadata": {},
   "outputs": [],
   "source": [
    "%load_ext dotenv\n",
    "%dotenv"
   ]
  },
  {
   "cell_type": "code",
   "execution_count": 2,
   "metadata": {},
   "outputs": [],
   "source": [
    "from src.utils.table_selection.table_selector import *\n",
    "from src.utils.table_selection.table_details import *\n",
    "from src.utils.api_data_request.api_generator import *\n",
    "from src.utils.data_analysis.data_analysis import *"
   ]
  },
  {
   "cell_type": "code",
   "execution_count": 3,
   "metadata": {},
   "outputs": [
    {
     "name": "stdout",
     "output_type": "stream",
     "text": [
      "table name: Consumer Price Index - CPI\n",
      "table description: Table 'Consumer Price Index - CPI' has price index for products, encompassing over 200 expenditure categories grouped into major segments (food and beverages, housing, apparel, recreation, and other goods).\n",
      "table dimensions: Year (periodicity of the data), Month and Year (periodicity of the data with the format YYYYMM (example March of 2015 is 201503)), Level 1.1 (most general level of products and services), Level 2.2, Level 3.3, Level 4.4, Level 5.5 (most detailed level of products and services)\n",
      "table measures: Consumer Price Inde (consumer price index), Standard Error (standard error of CPI), Percent Change (percentage change)\n",
      "\n",
      "\n",
      "table name: dot_faf\n",
      "table description: Table 'dot_faf' has freight movement among states and major metropolitan areas by all modes of transportation. Shows which goods are shipped from one region of the US to another region, according to type of commodity, mode of shipment, value, and weight.\n",
      "table dimensions: Year (year), SCTG2 (products based on SCTG classification (first level).), Transportation Mode (mode of transportation or shipment.), Origin State (Origin state), Origin Region (Origin region), Destination Region (Destination region), Destination Region (Destination region)\n",
      "table measures: Millions Of Dollars (value in millions of dollars of a certain shipment.), Thousands Of Tons (weight in thousands of tons of a certain shipment.)\n",
      "\n",
      "\n",
      "table name: ed_defaults\n",
      "table description: Table `ed_defaults` has cohort default rates of schools.\n",
      "table dimensions: Year, State (US states), County (US counties), OPEID (School name according to the Office of Postsecondary Education Identifier)\n",
      "table measures: Borrowers in Default (Number of borrowers in default), Default Rate\n",
      "\n",
      "\n",
      "table name: pums_5\n",
      "table description: Table 'pums_5' has data on total population and average wages by Year, Nation, State or PUMA, age, gender, race, PUMS occupation and PUMS industry. You can query any combination of these.\n",
      "table dimensions: Year, Nation (national level data (USA)), State (US states), PUMA (US PUMAs (public use microdata areas)), Age, Gender, Race, Major Occupation Group (PUMS Occupation most general classification), Minor Occupation Group (PUMS minor Occupation classification), Broad Occupation (PUMS broad Occupation classification), Detailed Occupation (PUMS most detailed Occupation classification), Industry Sector (PUMS industry sector classification (most general classification)), Industry Sub-Sector (PUMS industry sub-sector classification), Industry Group (PUMS industry group classification (most detailed classification))\n",
      "table measures: Average Wage, Total Population, Average Income, Average Age\n",
      " \n",
      "\n"
     ]
    }
   ],
   "source": [
    "table_descriptions = get_table_schemas()\n",
    "print(table_descriptions, \"\\n\")"
   ]
  },
  {
   "cell_type": "code",
   "execution_count": 4,
   "metadata": {},
   "outputs": [
    {
     "data": {
      "text/plain": [
       "['Consumer Price Index - CPI', 'dot_faf', 'ed_defaults', 'pums_5']"
      ]
     },
     "execution_count": 4,
     "metadata": {},
     "output_type": "execute_result"
    }
   ],
   "source": [
    "get_table_names()"
   ]
  },
  {
   "cell_type": "code",
   "execution_count": 5,
   "metadata": {},
   "outputs": [],
   "source": [
    "query = 'what was the CPI of electronics in March of 2014?'"
   ]
  },
  {
   "cell_type": "markdown",
   "metadata": {},
   "source": [
    "#### Getting table from LLM (OpenAI's API)"
   ]
  },
  {
   "cell_type": "code",
   "execution_count": 6,
   "metadata": {},
   "outputs": [
    {
     "name": "stdout",
     "output_type": "stream",
     "text": [
      "Messages:\n",
      " [{'role': 'user', 'content': 'What service presented the highest growth in the consumer price index during the last year?'}, {'role': 'assistant', 'content': '\\n{\\n    \"tables\": [\"Consumer Price Index - Services\"]\\n}\\n'}, {'role': 'user', 'content': 'What is the average monthly CPI volatility for all product groups combined?'}, {'role': 'assistant', 'content': '\\n{\\n    \"tables\": [\"Consumer Price Index - Products\"]\\n}\\n'}, {'role': 'user', 'content': 'Which states or metropolitan areas are the primary origins for specific products, and which are the primary destinations?'}, {'role': 'assistant', 'content': '\\n{\\n    \"tables\": [\"Consumer Price Index - Products\"]\\n}\\n'}, {'role': 'user', 'content': 'What is the trend in total freight movement volume across all transportation modes over the past five years?'}, {'role': 'assistant', 'content': '\\n{\\n    \"tables\": [\"dot_faf\", \"us_location_data\"]\\n}\\n'}, {'role': 'user', 'content': 'What is the trend in total freight movement volume across all transportation modes over the past five years?'}, {'role': 'assistant', 'content': '\\n{\\n    \"tables\": [\"dot_faf\", \"us_location_data\"]\\n}\\n'}, {'role': 'user', 'content': '\\n        You are an expert data scientist.\\n\\n        Return a JSON object with relevant SQL tables for answering the following natural language query:\\n\\n        ---------------\\n\\n        what was the CPI of electronics in March of 2014?\\n        \\n---------------\\n\\n        Respond in JSON format with your answer in a field named \"tables\" which is a list of strings.\\n\\n        Respond with an empty list if you cannot identify any relevant tables.\\n\\n        Write your answer in markdown format.\\n\\n        \\n            The following is a table that can be used to answer the natural language query, along with the definition of its enums:\\n\\n            ---------------------\\n\\n            table name: Consumer Price Index - CPI\\ntable description: Table \\'Consumer Price Index - CPI\\' has price index for products, encompassing over 200 expenditure categories grouped into major segments (food and beverages, housing, apparel, recreation, and other goods).\\ntable dimensions: Year (periodicity of the data), Month and Year (periodicity of the data with the format YYYYMM (example March of 2015 is 201503)), Level 1.1 (most general level of products and services), Level 2.2, Level 3.3, Level 4.4, Level 5.5 (most detailed level of products and services)\\ntable measures: Consumer Price Inde (consumer price index), Standard Error (standard error of CPI), Percent Change (percentage change)\\n\\n\\ntable name: dot_faf\\ntable description: Table \\'dot_faf\\' has freight movement among states and major metropolitan areas by all modes of transportation. Shows which goods are shipped from one region of the US to another region, according to type of commodity, mode of shipment, value, and weight.\\ntable dimensions: Year (year), SCTG2 (products based on SCTG classification (first level).), Transportation Mode (mode of transportation or shipment.), Origin State (Origin state), Origin Region (Origin region), Destination Region (Destination region), Destination Region (Destination region)\\ntable measures: Millions Of Dollars (value in millions of dollars of a certain shipment.), Thousands Of Tons (weight in thousands of tons of a certain shipment.)\\n\\n\\ntable name: ed_defaults\\ntable description: Table `ed_defaults` has cohort default rates of schools.\\ntable dimensions: Year, State (US states), County (US counties), OPEID (School name according to the Office of Postsecondary Education Identifier)\\ntable measures: Borrowers in Default (Number of borrowers in default), Default Rate\\n\\n\\ntable name: pums_5\\ntable description: Table \\'pums_5\\' has data on total population and average wages by Year, Nation, State or PUMA, age, gender, race, PUMS occupation and PUMS industry. You can query any combination of these.\\ntable dimensions: Year, Nation (national level data (USA)), State (US states), PUMA (US PUMAs (public use microdata areas)), Age, Gender, Race, Major Occupation Group (PUMS Occupation most general classification), Minor Occupation Group (PUMS minor Occupation classification), Broad Occupation (PUMS broad Occupation classification), Detailed Occupation (PUMS most detailed Occupation classification), Industry Sector (PUMS industry sector classification (most general classification)), Industry Sub-Sector (PUMS industry sub-sector classification), Industry Group (PUMS industry group classification (most detailed classification))\\ntable measures: Average Wage, Total Population, Average Income, Average Age\\n\\n            ---------------------\\n\\n\\n            in your answer, provide the following information:\\n\\n            \\n            - <one to two sentence comment explaining what tables can be relevant goes here>\\n\\n            - <comment double checking the table is the one above along with what the first column in the table is or (none) if it doesn\\'t exist.>\\n\\n            - <finally select the most relevant table that can be used to answer the query.>\\n            - the markdown formatted like this:\\n\\n            ```\\n\\n            <json of the most relevant table>\\n\\n            ```\\n\\n\\n            Provide only the most relevant table and nothing else after.\\n            '}] \n",
      "\n",
      "\n",
      "\n",
      "ChatGPT response: The relevant table for this query would be the \"Consumer Price Index - CPI\" as it contains information about the price index for various products, including electronics, for different time periods.\n",
      "\n",
      "```\n",
      "{\n",
      "    \"tables\": [\"Consumer Price Index - CPI\"]\n",
      "}\n",
      "```\n",
      "\n",
      "Tables: {\n",
      "    \"tables\": [\"Consumer Price Index - CPI\"]\n",
      "}\n"
     ]
    }
   ],
   "source": [
    "table_llm = get_relevant_tables_from_lm(query)\n"
   ]
  },
  {
   "cell_type": "code",
   "execution_count": 7,
   "metadata": {},
   "outputs": [
    {
     "name": "stdout",
     "output_type": "stream",
     "text": [
      "['Consumer Price Index - CPI']\n"
     ]
    }
   ],
   "source": [
    "print(table_llm)\n"
   ]
  },
  {
   "cell_type": "markdown",
   "metadata": {},
   "source": [
    "#### Getting table from DB (with embeddings)"
   ]
  },
  {
   "cell_type": "code",
   "execution_count": 8,
   "metadata": {},
   "outputs": [
    {
     "name": "stdout",
     "output_type": "stream",
     "text": [
      "DF:                    table_name  similarity\n",
      "0  Consumer Price Index - CPI    0.399441\n"
     ]
    }
   ],
   "source": [
    "table_db = get_relevant_tables_from_database(query)"
   ]
  },
  {
   "cell_type": "code",
   "execution_count": 9,
   "metadata": {},
   "outputs": [
    {
     "data": {
      "text/plain": [
       "\"table name: Consumer Price Index - CPI\\ntable description: Table 'Consumer Price Index - CPI' has price index for products, encompassing over 200 expenditure categories grouped into major segments (food and beverages, housing, apparel, recreation, and other goods).\\ntable dimensions: Year (periodicity of the data), Month and Year (periodicity of the data with the format YYYYMM (example March of 2015 is 201503)), Level 1.1 (most general level of products and services), Level 2.2, Level 3.3, Level 4.4, Level 5.5 (most detailed level of products and services)\\ntable measures: Consumer Price Inde (consumer price index), Standard Error (standard error of CPI), Percent Change (percentage change)\\n\""
      ]
     },
     "execution_count": 9,
     "metadata": {},
     "output_type": "execute_result"
    }
   ],
   "source": [
    "get_table_schemas(table_db)"
   ]
  },
  {
   "cell_type": "markdown",
   "metadata": {},
   "source": [
    "#### Getting table with hybrid approach \n",
    "- Gets top k matches from DB, then asks the LLM to choose the most relevant"
   ]
  },
  {
   "cell_type": "code",
   "execution_count": 10,
   "metadata": {},
   "outputs": [
    {
     "name": "stdout",
     "output_type": "stream",
     "text": [
      "DF:                    table_name  similarity\n",
      "0  Consumer Price Index - CPI    0.399441\n",
      "1                      pums_5    0.231907\n",
      "2                     dot_faf    0.204892\n",
      "Messages:\n",
      " [{'role': 'user', 'content': 'What service presented the highest growth in the consumer price index during the last year?'}, {'role': 'assistant', 'content': '\\n{\\n    \"tables\": [\"Consumer Price Index - Services\"]\\n}\\n'}, {'role': 'user', 'content': 'What is the average monthly CPI volatility for all product groups combined?'}, {'role': 'assistant', 'content': '\\n{\\n    \"tables\": [\"Consumer Price Index - Products\"]\\n}\\n'}, {'role': 'user', 'content': 'Which states or metropolitan areas are the primary origins for specific products, and which are the primary destinations?'}, {'role': 'assistant', 'content': '\\n{\\n    \"tables\": [\"Consumer Price Index - Products\"]\\n}\\n'}, {'role': 'user', 'content': 'What is the trend in total freight movement volume across all transportation modes over the past five years?'}, {'role': 'assistant', 'content': '\\n{\\n    \"tables\": [\"dot_faf\", \"us_location_data\"]\\n}\\n'}, {'role': 'user', 'content': 'What is the trend in total freight movement volume across all transportation modes over the past five years?'}, {'role': 'assistant', 'content': '\\n{\\n    \"tables\": [\"dot_faf\", \"us_location_data\"]\\n}\\n'}, {'role': 'user', 'content': '\\n        You are an expert data scientist.\\n\\n        Return a JSON object with relevant SQL tables for answering the following natural language query:\\n\\n        ---------------\\n\\n        what was the CPI of electronics in March of 2014?\\n        \\n---------------\\n\\n        Respond in JSON format with your answer in a field named \"tables\" which is a list of strings.\\n\\n        Respond with an empty list if you cannot identify any relevant tables.\\n\\n        Write your answer in markdown format.\\n\\n        \\n            The following are the tables you can query and the definition of their enums:\\n\\n            ---------------------\\n\\n            table name: Consumer Price Index - CPI\\ntable description: Table \\'Consumer Price Index - CPI\\' has price index for products, encompassing over 200 expenditure categories grouped into major segments (food and beverages, housing, apparel, recreation, and other goods).\\ntable dimensions: Year (periodicity of the data), Month and Year (periodicity of the data with the format YYYYMM (example March of 2015 is 201503)), Level 1.1 (most general level of products and services), Level 2.2, Level 3.3, Level 4.4, Level 5.5 (most detailed level of products and services)\\ntable measures: Consumer Price Inde (consumer price index), Standard Error (standard error of CPI), Percent Change (percentage change)\\n\\n\\ntable name: dot_faf\\ntable description: Table \\'dot_faf\\' has freight movement among states and major metropolitan areas by all modes of transportation. Shows which goods are shipped from one region of the US to another region, according to type of commodity, mode of shipment, value, and weight.\\ntable dimensions: Year (year), SCTG2 (products based on SCTG classification (first level).), Transportation Mode (mode of transportation or shipment.), Origin State (Origin state), Origin Region (Origin region), Destination Region (Destination region), Destination Region (Destination region)\\ntable measures: Millions Of Dollars (value in millions of dollars of a certain shipment.), Thousands Of Tons (weight in thousands of tons of a certain shipment.)\\n\\n\\ntable name: pums_5\\ntable description: Table \\'pums_5\\' has data on total population and average wages by Year, Nation, State or PUMA, age, gender, race, PUMS occupation and PUMS industry. You can query any combination of these.\\ntable dimensions: Year, Nation (national level data (USA)), State (US states), PUMA (US PUMAs (public use microdata areas)), Age, Gender, Race, Major Occupation Group (PUMS Occupation most general classification), Minor Occupation Group (PUMS minor Occupation classification), Broad Occupation (PUMS broad Occupation classification), Detailed Occupation (PUMS most detailed Occupation classification), Industry Sector (PUMS industry sector classification (most general classification)), Industry Sub-Sector (PUMS industry sub-sector classification), Industry Group (PUMS industry group classification (most detailed classification))\\ntable measures: Average Wage, Total Population, Average Income, Average Age\\n\\n            ---------------------\\n\\n\\n            in your answer, provide the following information:\\n\\n            \\n            - <one to two sentence comment explaining what tables can be relevant goes here>\\n\\n            - <for each table identified, comment double checking the table is in the schema above along with what the first column in the table is or (none) if it doesn\\'t exist. be careful that any tables suggested were actually above>\\n\\n            - <if any tables were incorrectly identified, make a note here about what tables from the schema should actually be used if any>\\n\\n            - the markdown formatted like this:\\n\\n            ```\\n\\n            <json of the tables>\\n\\n            ```\\n\\n\\n            Provide only the list of related tables and nothing else after.\\n            '}] \n",
      "\n",
      "\n",
      "\n",
      "ChatGPT response: The relevant table for this query is the 'Consumer Price Index - CPI' as it contains the consumer price index for various products including electronics.\n",
      "\n",
      "The 'Consumer Price Index - CPI' table is indeed in the schema provided above and the first column in this table is 'Year'.\n",
      "\n",
      "No tables were incorrectly identified.\n",
      "\n",
      "```\n",
      "{\n",
      "    \"tables\": [\"Consumer Price Index - CPI\"]\n",
      "}\n",
      "```\n",
      "\n",
      "Tables: {\n",
      "    \"tables\": [\"Consumer Price Index - CPI\"]\n",
      "}\n"
     ]
    }
   ],
   "source": [
    "table_db_llm = request_tables_to_lm_from_db(query)"
   ]
  },
  {
   "cell_type": "markdown",
   "metadata": {},
   "source": [
    "# API parameter generator"
   ]
  },
  {
   "cell_type": "code",
   "execution_count": 11,
   "metadata": {},
   "outputs": [
    {
     "name": "stdout",
     "output_type": "stream",
     "text": [
      "\n",
      "ChatGPT response: - The chosen variables, measures and filters can answer the query because the query is asking for the Consumer Price Index (CPI) of electronics in March of 2014. The variables needed are the time (Year and Month) and the product category (Level 1.1 to Level 5.5). The measure needed is the Consumer Price Index. The filters needed are the specific time (March 2014) and the specific product category (electronics).\n",
      "\n",
      "- The variable \"Year\" and \"Month and Year\" exist in the table under the parent dimension \"Time\". The variables \"Level 1.1\" to \"Level 5.5\" exist in the table under the parent dimension \"Products or Services\". The measure \"Consumer Price Index\" exists in the table. The filters \"Year = 2014\", \"Month and Year = 201403\" and \"Level 1.1 = Electronics\" exist in the table.\n",
      "\n",
      "```\n",
      "\n",
      "{\n",
      "    \"variables\": [\"Month and Year\", \"Level 1.1\"],\n",
      "    \"measures\": [\"Consumer Price Index\"],\n",
      "    \"filters\": [\"Month and Year = 201403\", \"Level 1.1 = Electronics\"]\n",
      "}\n",
      "\n",
      "```\n",
      "\n",
      "Parameters: {\n",
      "    \"variables\": [\"Month and Year\", \"Level 1.1\"],\n",
      "    \"measures\": [\"Consumer Price Index\"],\n",
      "    \"filters\": [\"Month and Year = 201403\", \"Level 1.1 = Electronics\"]\n",
      "}\n"
     ]
    }
   ],
   "source": [
    "v, m, c = get_api_params_from_lm(query, table_db_llm[0], model = 'gpt-4-1106-preview')"
   ]
  },
  {
   "cell_type": "code",
   "execution_count": 12,
   "metadata": {},
   "outputs": [
    {
     "name": "stdout",
     "output_type": "stream",
     "text": [
      "Variables:\n",
      "\n",
      " ['Month and Year', 'Level 1.1'] \n",
      " \n",
      "Measures:\n",
      "\n",
      " ['Consumer Price Index'] \n",
      " \n",
      "Cuts:\n",
      "\n",
      " ['Month and Year = 201403', 'Level 1.1 = Electronics']\n"
     ]
    }
   ],
   "source": [
    "print(\"Variables:\\n\\n\", v, \"\\n\", \"\\nMeasures:\\n\\n\", m, \"\\n\", \"\\nCuts:\\n\\n\", c)"
   ]
  },
  {
   "cell_type": "code",
   "execution_count": 13,
   "metadata": {},
   "outputs": [],
   "source": [
    "api_url = api_build(table = table_db_llm[0], drilldowns = v, measures = m, cuts = c)"
   ]
  },
  {
   "cell_type": "code",
   "execution_count": 14,
   "metadata": {},
   "outputs": [
    {
     "data": {
      "text/plain": [
       "'https://api-ts-zircon.datausa.io/tesseract/data.jsonrecords?cube=Consumer Price Index - CPI&drilldowns=Month and Year,Level 4.4&measures=Consumer Price Inde&Month and Year=201403&Level 4.4=403051619'"
      ]
     },
     "execution_count": 14,
     "metadata": {},
     "output_type": "execute_result"
    }
   ],
   "source": [
    "api_url"
   ]
  },
  {
   "cell_type": "markdown",
   "metadata": {},
   "source": [
    "# API Request"
   ]
  },
  {
   "cell_type": "code",
   "execution_count": 15,
   "metadata": {},
   "outputs": [],
   "source": [
    "data, df = api_request(api_url)"
   ]
  },
  {
   "cell_type": "code",
   "execution_count": 16,
   "metadata": {},
   "outputs": [
    {
     "data": {
      "text/plain": [
       "[{'Month and Year ID': 201403,\n",
       "  'Month and Year': 'March, 2014',\n",
       "  'Level 4.4 ID': 403051619,\n",
       "  'Level 4.4': 'Appliances',\n",
       "  'Consumer Price Inde': -3.299999952316284}]"
      ]
     },
     "execution_count": 16,
     "metadata": {},
     "output_type": "execute_result"
    }
   ],
   "source": [
    "data"
   ]
  },
  {
   "cell_type": "code",
   "execution_count": 17,
   "metadata": {},
   "outputs": [
    {
     "data": {
      "text/html": [
       "<div>\n",
       "<style scoped>\n",
       "    .dataframe tbody tr th:only-of-type {\n",
       "        vertical-align: middle;\n",
       "    }\n",
       "\n",
       "    .dataframe tbody tr th {\n",
       "        vertical-align: top;\n",
       "    }\n",
       "\n",
       "    .dataframe thead th {\n",
       "        text-align: right;\n",
       "    }\n",
       "</style>\n",
       "<table border=\"1\" class=\"dataframe\">\n",
       "  <thead>\n",
       "    <tr style=\"text-align: right;\">\n",
       "      <th></th>\n",
       "      <th>Month and Year ID</th>\n",
       "      <th>Month and Year</th>\n",
       "      <th>Level 4.4 ID</th>\n",
       "      <th>Level 4.4</th>\n",
       "      <th>Consumer Price Inde</th>\n",
       "    </tr>\n",
       "  </thead>\n",
       "  <tbody>\n",
       "    <tr>\n",
       "      <th>0</th>\n",
       "      <td>201403</td>\n",
       "      <td>March, 2014</td>\n",
       "      <td>403051619</td>\n",
       "      <td>Appliances</td>\n",
       "      <td>-3.3</td>\n",
       "    </tr>\n",
       "  </tbody>\n",
       "</table>\n",
       "</div>"
      ],
      "text/plain": [
       "   Month and Year ID Month and Year  Level 4.4 ID   Level 4.4  \\\n",
       "0             201403    March, 2014     403051619  Appliances   \n",
       "\n",
       "   Consumer Price Inde  \n",
       "0                 -3.3  "
      ]
     },
     "execution_count": 17,
     "metadata": {},
     "output_type": "execute_result"
    }
   ],
   "source": [
    "df"
   ]
  },
  {
   "cell_type": "markdown",
   "metadata": {},
   "source": [
    "# Data Analysis"
   ]
  },
  {
   "cell_type": "code",
   "execution_count": 18,
   "metadata": {},
   "outputs": [
    {
     "name": "stdout",
     "output_type": "stream",
     "text": [
      "Prompt: \n",
      "        You are an expert data analyst. You are given a question from a user and a pandas dataframe that contains the data to answer this question.\n",
      "\n",
      "        The question is the following:\n",
      "        ---------------\n",
      "\n",
      "        what was the CPI of electronics in March of 2014?\n",
      "        \n",
      "---------------\n",
      "\n",
      "        Explain your reasoning to reach the answer.\n",
      "        Take into consideration the data type and formatting of the columns.\n",
      "        Its possible that any product/service or other variables the user is referring to appears with a different name in the dataframe.\n",
      "        Lets think it through step by step.\n",
      "        \n",
      "\n",
      "\n",
      "\u001b[1m> Entering new  chain...\u001b[0m\n"
     ]
    },
    {
     "name": "stderr",
     "output_type": "stream",
     "text": [
      "/Users/alexandrabjanes/miniconda3/envs/ai-env/lib/python3.11/site-packages/langchain/llms/openai.py:189: UserWarning: You are trying to use a chat model. This way of initializing it is no longer supported. Instead, please use: `from langchain.chat_models import ChatOpenAI`\n",
      "  warnings.warn(\n",
      "/Users/alexandrabjanes/miniconda3/envs/ai-env/lib/python3.11/site-packages/langchain/llms/openai.py:769: UserWarning: You are trying to use a chat model. This way of initializing it is no longer supported. Instead, please use: `from langchain.chat_models import ChatOpenAI`\n",
      "  warnings.warn(\n"
     ]
    },
    {
     "name": "stdout",
     "output_type": "stream",
     "text": [
      "\u001b[32;1m\u001b[1;3mThought: To answer the question, I need to find the Consumer Price Index (CPI) for electronics in March of 2014. I will need to look at the 'Month and Year' and 'Level 4.4' columns to filter the data accordingly. Since the user is asking for electronics, I need to check if the 'Level 4.4' column contains a category for electronics or a similar term. I will also need to verify that the 'Month and Year' column contains the date 'March, 2014'. If the data is present, I can then extract the CPI value for that category and time period.\n",
      "\n",
      "Action: I will first check the unique values in the 'Level 4.4' column to see if there is a category for electronics or a similar term.\n",
      "Action Input: df['Level 4.4'].unique()\u001b[0m\n",
      "Observation: I will first check the unique values in the 'Level 4.4' column to see if there is a category for electronics or a similar term. is not a valid tool, try another one.\n",
      "Thought:\u001b[32;1m\u001b[1;3mI need to use the correct tool to execute the Python command to check the unique values in the 'Level 4.4' column.\n",
      "\n",
      "Action: python_repl_ast\n",
      "Action Input: df['Level 4.4'].unique()\u001b[0m\n",
      "Observation: \u001b[36;1m\u001b[1;3m['Appliances']\u001b[0m\n",
      "Thought:\u001b[32;1m\u001b[1;3mThe unique values in the 'Level 4.4' column only show 'Appliances', which does not directly indicate electronics. However, it's possible that electronics could be categorized under appliances. Without additional data, I cannot be certain if electronics are included in this category or if there is another category for electronics that is not shown in the head of the dataframe.\n",
      "\n",
      "To proceed, I will assume that 'Appliances' might include electronics, and I will filter the dataframe by the 'Month and Year' column to find entries for March 2014. If there is an entry for electronics under 'Appliances', I will be able to find the CPI for it.\n",
      "\n",
      "Action: python_repl_ast\n",
      "Action Input: df[(df['Month and Year'] == 'March, 2014') & (df['Level 4.4'] == 'Appliances')]\u001b[0m\n",
      "Observation: \u001b[36;1m\u001b[1;3m   Month and Year ID Month and Year  Level 4.4 ID   Level 4.4  \\\n",
      "0             201403    March, 2014     403051619  Appliances   \n",
      "\n",
      "   Consumer Price Inde  \n",
      "0                 -3.3  \u001b[0m\n",
      "Thought:\u001b[32;1m\u001b[1;3mThe dataframe filtered for 'March, 2014' and 'Appliances' returns one row with the same data shown in the initial `df.head()` output. The 'Consumer Price Inde' for 'Appliances' in March 2014 is -3.3. However, since 'Appliances' may or may not include electronics, and there is no explicit category for electronics shown in the unique values, I cannot definitively answer the user's question with the given data. I would need more information to determine if electronics are included in the 'Appliances' category or if there is a separate category for electronics that is not visible in the current output.\n",
      "\n",
      "Final Answer: With the given data, it is not possible to definitively answer the question about the CPI of electronics in March of 2014, as the category 'Electronics' is not explicitly listed in the dataframe. The 'Appliances' category has a CPI of -3.3 for March 2014, but it is unclear if this includes electronics. Additional data or clarification on the categorization would be needed to provide a precise answer.\u001b[0m\n",
      "\n",
      "\u001b[1m> Finished chain.\u001b[0m\n",
      "\n",
      "Agent answer: With the given data, it is not possible to definitively answer the question about the CPI of electronics in March of 2014, as the category 'Electronics' is not explicitly listed in the dataframe. The 'Appliances' category has a CPI of -3.3 for March 2014, but it is unclear if this includes electronics. Additional data or clarification on the categorization would be needed to provide a precise answer.\n",
      "\n",
      " <class 'str'>\n"
     ]
    },
    {
     "data": {
      "text/plain": [
       "\"With the given data, it is not possible to definitively answer the question about the CPI of electronics in March of 2014, as the category 'Electronics' is not explicitly listed in the dataframe. The 'Appliances' category has a CPI of -3.3 for March 2014, but it is unclear if this includes electronics. Additional data or clarification on the categorization would be needed to provide a precise answer.\""
      ]
     },
     "execution_count": 18,
     "metadata": {},
     "output_type": "execute_result"
    }
   ],
   "source": [
    "agent_answer(df, query)"
   ]
  },
  {
   "cell_type": "code",
   "execution_count": 19,
   "metadata": {},
   "outputs": [
    {
     "name": "stdout",
     "output_type": "stream",
     "text": [
      "Prompt: \n",
      "        You are an expert data analyst. You are given a question from a user and a pandas dataframe that contains the data to answer this question.\n",
      "\n",
      "        The question is the following:\n",
      "        ---------------\n",
      "\n",
      "        what was the CPI of electronics in March of 2014?\n",
      "        \n",
      "---------------\n",
      "\n",
      "        Explain your reasoning to reach the answer.\n",
      "        Take into consideration the data type and formatting of the columns.\n",
      "        Its possible that any product/service or other variables the user is referring to appears with a different name in the dataframe.\n",
      "        Lets think it through step by step.\n",
      "        \n",
      "\n",
      "\n",
      "\u001b[1m> Entering new  chain...\u001b[0m\n"
     ]
    },
    {
     "name": "stderr",
     "output_type": "stream",
     "text": [
      "/Users/alexandrabjanes/miniconda3/envs/ai-env/lib/python3.11/site-packages/langchain/llms/openai.py:189: UserWarning: You are trying to use a chat model. This way of initializing it is no longer supported. Instead, please use: `from langchain.chat_models import ChatOpenAI`\n",
      "  warnings.warn(\n",
      "/Users/alexandrabjanes/miniconda3/envs/ai-env/lib/python3.11/site-packages/langchain/llms/openai.py:769: UserWarning: You are trying to use a chat model. This way of initializing it is no longer supported. Instead, please use: `from langchain.chat_models import ChatOpenAI`\n",
      "  warnings.warn(\n"
     ]
    },
    {
     "name": "stdout",
     "output_type": "stream",
     "text": [
      "\u001b[32;1m\u001b[1;3mThought: To answer the question, I need to find the row in the dataframe `df` where the \"Month and Year\" column matches \"March, 2014\" and the \"Level 4.4\" column contains the term \"electronics\". However, the provided dataframe snippet only shows the \"Appliances\" category, not \"electronics\". I will need to check if there is a row that matches these criteria.\n",
      "\n",
      "Action: I will first check if the \"Level 4.4\" column contains the term \"electronics\" by using the `unique()` method to list all unique values in that column. This will help me understand if \"electronics\" is a category in the dataframe and how it is formatted.\n",
      "\n",
      "Action Input: df['Level 4.4'].unique()\u001b[0m\n",
      "Observation: I will first check if the \"Level 4.4\" column contains the term \"electronics\" by using the `unique()` method to list all unique values in that column. This will help me understand if \"electronics\" is a category in the dataframe and how it is formatted. is not a valid tool, try another one.\n",
      "Thought:\u001b[32;1m\u001b[1;3mI need to use the correct tool to execute the Python command. Let's try again using the python_repl_ast tool to list all unique values in the \"Level 4.4\" column.\n",
      "\n",
      "Action: python_repl_ast\n",
      "Action Input: df['Level 4.4'].unique()\u001b[0m\n",
      "Observation: \u001b[36;1m\u001b[1;3m['Appliances']\u001b[0m\n",
      "Thought:\u001b[32;1m\u001b[1;3mThe observation shows that the only unique value in the \"Level 4.4\" column from the snippet provided is 'Appliances'. This does not give us information about the 'electronics' category. Since we only have a snippet of the dataframe, it's possible that 'electronics' is a category that exists in the full dataframe but is not shown in the snippet.\n",
      "\n",
      "To find the CPI of electronics in March of 2014, I need to filter the dataframe for rows where the \"Month and Year\" column is \"March, 2014\" and the \"Level 4.4\" column contains \"electronics\". However, since the unique values check did not show 'electronics', I will need to perform a query or filtering operation on the dataframe to find the correct row.\n",
      "\n",
      "Action: I will use a query to filter the dataframe for the specified \"Month and Year\" and check if any row contains \"electronics\" in the \"Level 4.4\" column.\n",
      "\n",
      "Action Input: df[(df['Month and Year'] == 'March, 2014') & (df['Level 4.4'].str.contains('electronics', case=False, na=False))]\u001b[0m\n",
      "Observation: I will use a query to filter the dataframe for the specified \"Month and Year\" and check if any row contains \"electronics\" in the \"Level 4.4\" column. is not a valid tool, try another one.\n",
      "Thought:\u001b[32;1m\u001b[1;3mI need to use the correct tool to execute the Python command. Let's try again using the python_repl_ast tool to filter the dataframe for the specified \"Month and Year\" and check if any row contains \"electronics\" in the \"Level 4.4\" column.\n",
      "\n",
      "Action: python_repl_ast\n",
      "Action Input: df[(df['Month and Year'] == 'March, 2014') & (df['Level 4.4'].str.contains('electronics', case=False, na=False))]\u001b[0m\n",
      "Observation: \u001b[36;1m\u001b[1;3mEmpty DataFrame\n",
      "Columns: [Month and Year ID, Month and Year, Level 4.4 ID, Level 4.4, Consumer Price Inde]\n",
      "Index: []\u001b[0m\n",
      "Thought:\u001b[32;1m\u001b[1;3mThe observation indicates that there are no rows in the dataframe where the \"Month and Year\" is \"March, 2014\" and the \"Level 4.4\" column contains the term \"electronics\". This could mean that either there is no data for electronics in March 2014, or the term \"electronics\" is not used in the \"Level 4.4\" column and might be under a different name or category.\n",
      "\n",
      "Since we cannot find a direct match for \"electronics\", we might need to consider looking for similar or related terms that could represent electronics in the dataframe. However, without additional data or context, we cannot definitively answer the user's question.\n",
      "\n",
      "Final Answer: Based on the available data, there is no record for the CPI of electronics in March of 2014 in the dataframe. It is possible that the data for electronics is categorized under a different name, or it may not be present in the dataset at all.\u001b[0m\n",
      "\n",
      "\u001b[1m> Finished chain.\u001b[0m\n",
      "\n",
      "Agent answer: Based on the available data, there is no record for the CPI of electronics in March of 2014 in the dataframe. It is possible that the data for electronics is categorized under a different name, or it may not be present in the dataset at all.\n",
      "\n",
      " <class 'str'>\n",
      "Based on the available data, there is no record for the CPI of electronics in March of 2014 in the dataframe. It is possible that the data for electronics is categorized under a different name, or it may not be present in the dataset at all.\n"
     ]
    }
   ],
   "source": [
    "response = agent_answer(df, query)\n",
    "print(response)"
   ]
  },
  {
   "cell_type": "code",
   "execution_count": 20,
   "metadata": {},
   "outputs": [
    {
     "data": {
      "text/plain": [
       "'Based on the available data, there is no record for the CPI of electronics in March of 2014 in the dataframe. It is possible that the data for electronics is categorized under a different name, or it may not be present in the dataset at all.'"
      ]
     },
     "execution_count": 20,
     "metadata": {},
     "output_type": "execute_result"
    }
   ],
   "source": [
    "response"
   ]
  },
  {
   "cell_type": "code",
   "execution_count": null,
   "metadata": {},
   "outputs": [],
   "source": []
  }
 ],
 "metadata": {
  "kernelspec": {
   "display_name": "ai-env",
   "language": "python",
   "name": "python3"
  },
  "language_info": {
   "codemirror_mode": {
    "name": "ipython",
    "version": 3
   },
   "file_extension": ".py",
   "mimetype": "text/x-python",
   "name": "python",
   "nbconvert_exporter": "python",
   "pygments_lexer": "ipython3",
   "version": "3.11.3"
  },
  "orig_nbformat": 4
 },
 "nbformat": 4,
 "nbformat_minor": 2
}
