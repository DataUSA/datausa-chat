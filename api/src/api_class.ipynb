{
 "cells": [
  {
   "cell_type": "code",
   "execution_count": 1,
   "metadata": {},
   "outputs": [],
   "source": [
    "%load_ext dotenv\n",
    "%dotenv\n",
    "\n",
    "from api_data_request.api import *\n",
    "from table_selection.table_selector import *\n",
    "from table_selection.table import *\n",
    "\n",
    "from os import getenv"
   ]
  },
  {
   "cell_type": "code",
   "execution_count": 2,
   "metadata": {},
   "outputs": [],
   "source": [
    "jsondata = {\n",
    "    \"variables\": [\"Time\", \"Products or Services\"],\n",
    "    \"measures\": [\"Consumer Price Index\", \"Percent Change\"],\n",
    "    \"filters\": [\"Time = 2019\", \"Time = 2020\", \"Time = 2021\", \"Products or Services = Fresh Fruits\"]\n",
    "}\n",
    "\n",
    "v = jsondata[\"variables\"]\n",
    "m = jsondata[\"measures\"]\n",
    "c = jsondata[\"filters\"]"
   ]
  },
  {
   "cell_type": "code",
   "execution_count": 3,
   "metadata": {},
   "outputs": [],
   "source": [
    "TABLES_PATH = getenv('TABLES_PATH')\n",
    "manager = TableManager(TABLES_PATH)"
   ]
  },
  {
   "cell_type": "code",
   "execution_count": 4,
   "metadata": {},
   "outputs": [],
   "source": [
    "table = manager.get_table(\"Consumer Price Index - CPI\")"
   ]
  },
  {
   "cell_type": "code",
   "execution_count": 5,
   "metadata": {},
   "outputs": [],
   "source": [
    "api = api_build(table, manager, v, m, c)"
   ]
  },
  {
   "cell_type": "code",
   "execution_count": 6,
   "metadata": {},
   "outputs": [
    {
     "name": "stdout",
     "output_type": "stream",
     "text": [
      "{\n",
      "    \"base_url\": \"https://api-dev.datausa.io/tesseract/data.jsonrecords?\",\n",
      "    \"cube\": \"Consumer Price Index - CPI\",\n",
      "    \"cuts\": {\n",
      "        \"Time\": [\n",
      "            \"2021\",\n",
      "            \"2019\",\n",
      "            \"2020\"\n",
      "        ],\n",
      "        \"Level 5.5\": [\n",
      "            \"501010407009\"\n",
      "        ]\n",
      "    },\n",
      "    \"drilldowns\": [\n",
      "        \"Time\",\n",
      "        \"Level 5.5\"\n",
      "    ],\n",
      "    \"measures\": [\n",
      "        \"Consumer Price Index\",\n",
      "        \"Percent Change\"\n",
      "    ],\n",
      "    \"limit\": null,\n",
      "    \"sort\": null,\n",
      "    \"locale\": null\n",
      "}\n"
     ]
    }
   ],
   "source": [
    "json_data = build_json(api)\n",
    "print(json_data)"
   ]
  },
  {
   "cell_type": "code",
   "execution_count": null,
   "metadata": {},
   "outputs": [],
   "source": []
  }
 ],
 "metadata": {
  "kernelspec": {
   "display_name": "ai-env",
   "language": "python",
   "name": "python3"
  },
  "language_info": {
   "codemirror_mode": {
    "name": "ipython",
    "version": 3
   },
   "file_extension": ".py",
   "mimetype": "text/x-python",
   "name": "python",
   "nbconvert_exporter": "python",
   "pygments_lexer": "ipython3",
   "version": "3.11.3"
  }
 },
 "nbformat": 4,
 "nbformat_minor": 2
}
